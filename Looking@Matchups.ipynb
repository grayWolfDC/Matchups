{
 "cells": [
  {
   "cell_type": "code",
   "execution_count": 2,
   "metadata": {
    "collapsed": true
   },
   "outputs": [],
   "source": [
    "import netCDF4 as nc\n",
    "import numpy as np\n",
    "import matplotlib.pyplot as pl\n",
    "import pandas as pd\n",
    "import os"
   ]
  },
  {
   "cell_type": "code",
   "execution_count": 1,
   "metadata": {
    "collapsed": true
   },
   "outputs": [],
   "source": [
    "# Copied all files to:\n",
    "allL2Dir = '/disk02/UNCERTAINTIES/Monte-Carlo/Matchups/L2/AllFiles/'\n",
    "# Goal, load l2 files sequentially\n",
    "# in each case, find out whether latitude/longitude checks out -> re-read Proctor's email\n",
    "# in any case get median rrs_vvv and rrs_unc_vvv, \n",
    "# then compare to the tabulated matchup data incl. in_situ_rrs_vvv\n",
    "# and seawifs_rrs_vvv"
   ]
  },
  {
   "cell_type": "code",
   "execution_count": null,
   "metadata": {
    "collapsed": true
   },
   "outputs": [],
   "source": [
    "df = pd.read_pickle('dfMatchUpSWF.pkl')"
   ]
  },
  {
   "cell_type": "code",
   "execution_count": 3,
   "metadata": {
    "collapsed": false
   },
   "outputs": [
    {
     "data": {
      "text/plain": [
       "odict_keys(['sensor_band_parameters', 'scan_line_attributes', 'geophysical_data', 'navigation_data', 'processing_control'])"
      ]
     },
     "execution_count": 3,
     "metadata": {},
     "output_type": "execute_result"
    }
   ],
   "source": [
    "ds = nc.Dataset(fname)\n",
    "ds.groups.keys()"
   ]
  },
  {
   "cell_type": "code",
   "execution_count": 4,
   "metadata": {
    "collapsed": false
   },
   "outputs": [],
   "source": [
    "gpv = ds.groups['geophysical_data'].variables"
   ]
  },
  {
   "cell_type": "code",
   "execution_count": 5,
   "metadata": {
    "collapsed": true
   },
   "outputs": [],
   "source": [
    "nav = ds.groups['navigation_data'].variables"
   ]
  },
  {
   "cell_type": "code",
   "execution_count": 6,
   "metadata": {
    "collapsed": false
   },
   "outputs": [],
   "source": [
    "l2flags = gpv['l2_flags'][:]\n",
    "rrs412 = gpv['Rrs_412'][:]\n",
    "rrs412Unc = gpv['Rrs_unc_412'][:]"
   ]
  },
  {
   "cell_type": "code",
   "execution_count": 7,
   "metadata": {
    "collapsed": false
   },
   "outputs": [],
   "source": [
    "latitude=nav['latitude'][:]"
   ]
  },
  {
   "cell_type": "code",
   "execution_count": 8,
   "metadata": {
    "collapsed": true
   },
   "outputs": [],
   "source": [
    "longitude=nav['longitude'][:]"
   ]
  },
  {
   "cell_type": "code",
   "execution_count": 9,
   "metadata": {
    "collapsed": false
   },
   "outputs": [
    {
     "data": {
      "text/plain": [
       "((101, 101), (101, 101))"
      ]
     },
     "execution_count": 9,
     "metadata": {},
     "output_type": "execute_result"
    }
   ],
   "source": [
    "latitude.shape,longitude.shape"
   ]
  },
  {
   "cell_type": "code",
   "execution_count": 10,
   "metadata": {
    "collapsed": true
   },
   "outputs": [],
   "source": [
    "df = pd.read_pickle('dfMatchUpSWF.pkl')"
   ]
  },
  {
   "cell_type": "code",
   "execution_count": 16,
   "metadata": {
    "collapsed": false
   },
   "outputs": [
    {
     "data": {
      "text/plain": [
       "-120.78572"
      ]
     },
     "execution_count": 16,
     "metadata": {},
     "output_type": "execute_result"
    }
   ],
   "source": []
  },
  {
   "cell_type": "code",
   "execution_count": 17,
   "metadata": {
    "collapsed": false
   },
   "outputs": [],
   "source": [
    "df_S2001268195215 = df[df['file_name'].str.contains('S2001268195215')]"
   ]
  },
  {
   "cell_type": "code",
   "execution_count": 19,
   "metadata": {
    "collapsed": false
   },
   "outputs": [
    {
     "data": {
      "text/plain": [
       "id\n",
       "2725    0.003913\n",
       "2726    0.003901\n",
       "Name: insitu_Rrs412, dtype: float64"
      ]
     },
     "execution_count": 19,
     "metadata": {},
     "output_type": "execute_result"
    }
   ],
   "source": [
    "df_S2001268195215.insitu_Rrs412"
   ]
  },
  {
   "cell_type": "code",
   "execution_count": 20,
   "metadata": {
    "collapsed": false
   },
   "outputs": [
    {
     "data": {
      "text/plain": [
       "id\n",
       "2725    0.001941\n",
       "2726    0.001777\n",
       "Name: seawifs_Rrs412, dtype: float64"
      ]
     },
     "execution_count": 20,
     "metadata": {},
     "output_type": "execute_result"
    }
   ],
   "source": [
    "df_S2001268195215.seawifs_Rrs412"
   ]
  },
  {
   "cell_type": "code",
   "execution_count": 27,
   "metadata": {
    "collapsed": false
   },
   "outputs": [
    {
     "name": "stdout",
     "output_type": "stream",
     "text": [
      "rrs412: -0.000263\n",
      "rrs412_unc: 0.000140\n"
     ]
    }
   ],
   "source": [
    "print('rrs412: %f' % np.median(rrs412.compressed()))\n",
    "print('rrs412_unc: %f' % np.median(rrs412Unc.compressed()))\n"
   ]
  },
  {
   "cell_type": "code",
   "execution_count": 15,
   "metadata": {
    "collapsed": false
   },
   "outputs": [],
   "source": [
    "ser0 = df[df['L1_name'].str.contains(fId)]"
   ]
  },
  {
   "cell_type": "code",
   "execution_count": 20,
   "metadata": {
    "collapsed": false
   },
   "outputs": [],
   "source": [
    "lat0,lon0 = ser0.latitude.values,ser0.longitude.values"
   ]
  },
  {
   "cell_type": "code",
   "execution_count": 21,
   "metadata": {
    "collapsed": false
   },
   "outputs": [
    {
     "data": {
      "text/plain": [
       "(array([ 32.912]), array([-117.393]))"
      ]
     },
     "execution_count": 21,
     "metadata": {},
     "output_type": "execute_result"
    }
   ],
   "source": [
    "lat0,lon0"
   ]
  },
  {
   "cell_type": "code",
   "execution_count": 25,
   "metadata": {
    "collapsed": false
   },
   "outputs": [],
   "source": [
    "a = abs(latitude - lat0) + abs(longitude - lon0)\n",
    "i,j = np.unravel_index(a.argmin(),a.shape)"
   ]
  },
  {
   "cell_type": "code",
   "execution_count": 26,
   "metadata": {
    "collapsed": false
   },
   "outputs": [
    {
     "data": {
      "text/plain": [
       "(51, 49)"
      ]
     },
     "execution_count": 26,
     "metadata": {},
     "output_type": "execute_result"
    }
   ],
   "source": [
    "i,j"
   ]
  },
  {
   "cell_type": "code",
   "execution_count": 36,
   "metadata": {
    "collapsed": false
   },
   "outputs": [
    {
     "name": "stdout",
     "output_type": "stream",
     "text": [
      "[49 50 51 52 53] [47 48 49 50 51]\n"
     ]
    }
   ],
   "source": [
    "i5r,j5c = (np.arange(i-2,i+3),np.arange(j-2,j+3))\n",
    "print(i5r,j5c)"
   ]
  },
  {
   "cell_type": "code",
   "execution_count": 38,
   "metadata": {
    "collapsed": true
   },
   "outputs": [],
   "source": [
    "I5R,J5C = np.meshgrid(i5r,j5c)"
   ]
  },
  {
   "cell_type": "code",
   "execution_count": 27,
   "metadata": {
    "collapsed": false
   },
   "outputs": [
    {
     "name": "stdout",
     "output_type": "stream",
     "text": [
      "32.9179 -117.414\n"
     ]
    }
   ],
   "source": [
    "print(latitude[i,j],longitude[i,j])"
   ]
  },
  {
   "cell_type": "code",
   "execution_count": 39,
   "metadata": {
    "collapsed": false
   },
   "outputs": [
    {
     "data": {
      "text/plain": [
       "array([[  0,   0,   0,   0,   0],\n",
       "       [  0,   0,   0,   0,   0],\n",
       "       [  0,   0,   0,   0,   0],\n",
       "       [256, 256, 256,   0, 256],\n",
       "       [256, 256, 256, 256, 256]], dtype=int32)"
      ]
     },
     "execution_count": 39,
     "metadata": {},
     "output_type": "execute_result"
    }
   ],
   "source": [
    "l2flags[I5R,J5C]"
   ]
  },
  {
   "cell_type": "code",
   "execution_count": 41,
   "metadata": {
    "collapsed": false
   },
   "outputs": [
    {
     "data": {
      "text/plain": [
       "masked_array(data =\n",
       " [[0.006080001592636108 0.006182000041007996 0.005580000579357147\n",
       "  0.005573999136686325 0.0062160007655620575]\n",
       " [0.00571800023317337 0.005529999732971191 0.005860000848770142\n",
       "  0.00610000267624855 0.006136000156402588]\n",
       " [0.0044899992644786835 0.004716001451015472 0.005164001137018204\n",
       "  0.005432002246379852 0.006101999431848526]\n",
       " [0.00380600243806839 0.0031560026109218597 0.003600001335144043\n",
       "  0.0045500025153160095 0.0053800009191036224]\n",
       " [0.003962002694606781 0.0037240013480186462 0.0038520023226737976\n",
       "  0.003280002623796463 0.0040540024638175964]],\n",
       "             mask =\n",
       " [[False False False False False]\n",
       " [False False False False False]\n",
       " [False False False False False]\n",
       " [False False False False False]\n",
       " [False False False False False]],\n",
       "       fill_value = 1e+20)"
      ]
     },
     "execution_count": 41,
     "metadata": {},
     "output_type": "execute_result"
    }
   ],
   "source": [
    "rrs412[I5R,J5C]"
   ]
  },
  {
   "cell_type": "code",
   "execution_count": 42,
   "metadata": {
    "collapsed": false
   },
   "outputs": [
    {
     "data": {
      "text/plain": [
       "masked_array(data =\n",
       " [[-- -- -- -- --]\n",
       " [-- -- -- -- --]\n",
       " [-- -- -- -- --]\n",
       " [-- -- -- -- --]\n",
       " [-- -- -- -- --]],\n",
       "             mask =\n",
       " [[ True  True  True  True  True]\n",
       " [ True  True  True  True  True]\n",
       " [ True  True  True  True  True]\n",
       " [ True  True  True  True  True]\n",
       " [ True  True  True  True  True]],\n",
       "       fill_value = 1e+20)"
      ]
     },
     "execution_count": 42,
     "metadata": {},
     "output_type": "execute_result"
    }
   ],
   "source": [
    "rrs412Unc[I5R,J5C]"
   ]
  },
  {
   "cell_type": "code",
   "execution_count": 45,
   "metadata": {
    "collapsed": false
   },
   "outputs": [
    {
     "data": {
      "text/plain": [
       "masked_array(data =\n",
       " [[-- -- -- ..., -- -- --]\n",
       " [-- -- -- ..., -- -- --]\n",
       " [-- -- -- ..., -- -- --]\n",
       " ..., \n",
       " [-- -- -- ..., -- -- --]\n",
       " [-- -- -- ..., -- -- --]\n",
       " [-- -- -- ..., -- -- --]],\n",
       "             mask =\n",
       " [[ True  True  True ...,  True  True  True]\n",
       " [ True  True  True ...,  True  True  True]\n",
       " [ True  True  True ...,  True  True  True]\n",
       " ..., \n",
       " [ True  True  True ...,  True  True  True]\n",
       " [ True  True  True ...,  True  True  True]\n",
       " [ True  True  True ...,  True  True  True]],\n",
       "       fill_value = 1e+20)"
      ]
     },
     "execution_count": 45,
     "metadata": {},
     "output_type": "execute_result"
    }
   ],
   "source": [
    "gpv['Rrs_unc_443'][:]"
   ]
  },
  {
   "cell_type": "code",
   "execution_count": null,
   "metadata": {
    "collapsed": true
   },
   "outputs": [],
   "source": []
  }
 ],
 "metadata": {
  "kernelspec": {
   "display_name": "Python 3",
   "language": "python",
   "name": "python3"
  },
  "language_info": {
   "codemirror_mode": {
    "name": "ipython",
    "version": 3
   },
   "file_extension": ".py",
   "mimetype": "text/x-python",
   "name": "python",
   "nbconvert_exporter": "python",
   "pygments_lexer": "ipython3",
   "version": "3.5.1"
  }
 },
 "nbformat": 4,
 "nbformat_minor": 0
}
