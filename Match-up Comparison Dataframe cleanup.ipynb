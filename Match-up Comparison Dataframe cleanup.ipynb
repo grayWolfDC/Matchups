{
 "cells": [
  {
   "cell_type": "code",
   "execution_count": 1,
   "metadata": {
    "collapsed": true
   },
   "outputs": [],
   "source": [
    "import pickle\n",
    "import pandas as pd"
   ]
  },
  {
   "cell_type": "code",
   "execution_count": 6,
   "metadata": {
    "collapsed": false
   },
   "outputs": [],
   "source": [
    "compDict = pickle.load(open('mUpComp.pkl','rb'))"
   ]
  },
  {
   "cell_type": "code",
   "execution_count": 7,
   "metadata": {
    "collapsed": false
   },
   "outputs": [],
   "source": [
    "dfComp = pd.DataFrame(compDict)"
   ]
  },
  {
   "cell_type": "code",
   "execution_count": 17,
   "metadata": {
    "collapsed": false
   },
   "outputs": [
    {
     "data": {
      "text/plain": [
       "(181, 25)"
      ]
     },
     "execution_count": 17,
     "metadata": {},
     "output_type": "execute_result"
    }
   ],
   "source": [
    "dfComp.shape"
   ]
  },
  {
   "cell_type": "code",
   "execution_count": 16,
   "metadata": {
    "collapsed": false
   },
   "outputs": [
    {
     "data": {
      "text/plain": [
       "Index(['Rrs_412', 'Rrs_443', 'Rrs_490', 'Rrs_510', 'Rrs_555', 'Rrs_670',\n",
       "       'Rrs_unc_412', 'Rrs_unc_443', 'Rrs_unc_490', 'Rrs_unc_510',\n",
       "       'Rrs_unc_555', 'Rrs_unc_670', 'index', 'insitu_Rrs412', 'insitu_Rrs443',\n",
       "       'insitu_Rrs490', 'insitu_Rrs510', 'insitu_Rrs555', 'insitu_Rrs670',\n",
       "       'seawifs_Rrs412', 'seawifs_Rrs443', 'seawifs_Rrs490', 'seawifs_Rrs510',\n",
       "       'seawifs_Rrs555', 'seawifs_Rrs670'],\n",
       "      dtype='object')"
      ]
     },
     "execution_count": 16,
     "metadata": {},
     "output_type": "execute_result"
    }
   ],
   "source": [
    "dfComp.columns"
   ]
  },
  {
   "cell_type": "code",
   "execution_count": 25,
   "metadata": {
    "collapsed": false
   },
   "outputs": [],
   "source": [
    "dfComp.set_index('index',inplace=True)"
   ]
  },
  {
   "cell_type": "code",
   "execution_count": 32,
   "metadata": {
    "collapsed": false
   },
   "outputs": [],
   "source": [
    "dfComp.index.name='ID'"
   ]
  },
  {
   "cell_type": "code",
   "execution_count": 33,
   "metadata": {
    "collapsed": false
   },
   "outputs": [
    {
     "data": {
      "text/html": [
       "<div>\n",
       "<table border=\"1\" class=\"dataframe\">\n",
       "  <thead>\n",
       "    <tr style=\"text-align: right;\">\n",
       "      <th></th>\n",
       "      <th>Rrs_412</th>\n",
       "      <th>Rrs_443</th>\n",
       "      <th>Rrs_490</th>\n",
       "      <th>Rrs_510</th>\n",
       "      <th>Rrs_555</th>\n",
       "      <th>Rrs_670</th>\n",
       "      <th>Rrs_unc_412</th>\n",
       "      <th>Rrs_unc_443</th>\n",
       "      <th>Rrs_unc_490</th>\n",
       "      <th>Rrs_unc_510</th>\n",
       "      <th>...</th>\n",
       "      <th>insitu_Rrs490</th>\n",
       "      <th>insitu_Rrs510</th>\n",
       "      <th>insitu_Rrs555</th>\n",
       "      <th>insitu_Rrs670</th>\n",
       "      <th>seawifs_Rrs412</th>\n",
       "      <th>seawifs_Rrs443</th>\n",
       "      <th>seawifs_Rrs490</th>\n",
       "      <th>seawifs_Rrs510</th>\n",
       "      <th>seawifs_Rrs555</th>\n",
       "      <th>seawifs_Rrs670</th>\n",
       "    </tr>\n",
       "    <tr>\n",
       "      <th>ID</th>\n",
       "      <th></th>\n",
       "      <th></th>\n",
       "      <th></th>\n",
       "      <th></th>\n",
       "      <th></th>\n",
       "      <th></th>\n",
       "      <th></th>\n",
       "      <th></th>\n",
       "      <th></th>\n",
       "      <th></th>\n",
       "      <th></th>\n",
       "      <th></th>\n",
       "      <th></th>\n",
       "      <th></th>\n",
       "      <th></th>\n",
       "      <th></th>\n",
       "      <th></th>\n",
       "      <th></th>\n",
       "      <th></th>\n",
       "      <th></th>\n",
       "      <th></th>\n",
       "    </tr>\n",
       "  </thead>\n",
       "  <tbody>\n",
       "    <tr>\n",
       "      <th>2378</th>\n",
       "      <td>0.003447</td>\n",
       "      <td>0.003603</td>\n",
       "      <td>0.003490</td>\n",
       "      <td>0.002986</td>\n",
       "      <td>0.001872</td>\n",
       "      <td>0.000304</td>\n",
       "      <td>0.000032</td>\n",
       "      <td>0.000025</td>\n",
       "      <td>0.000018</td>\n",
       "      <td>0.000016</td>\n",
       "      <td>...</td>\n",
       "      <td>0.003012</td>\n",
       "      <td>-999.000000</td>\n",
       "      <td>-999.000000</td>\n",
       "      <td>0.000162</td>\n",
       "      <td>0.003422</td>\n",
       "      <td>0.003582</td>\n",
       "      <td>0.003450</td>\n",
       "      <td>0.002970</td>\n",
       "      <td>0.001896</td>\n",
       "      <td>0.000275</td>\n",
       "    </tr>\n",
       "    <tr>\n",
       "      <th>1757</th>\n",
       "      <td>0.002103</td>\n",
       "      <td>0.002485</td>\n",
       "      <td>0.003109</td>\n",
       "      <td>0.003167</td>\n",
       "      <td>0.003060</td>\n",
       "      <td>0.000660</td>\n",
       "      <td>0.000034</td>\n",
       "      <td>0.000027</td>\n",
       "      <td>0.000020</td>\n",
       "      <td>0.000018</td>\n",
       "      <td>...</td>\n",
       "      <td>0.002289</td>\n",
       "      <td>0.002419</td>\n",
       "      <td>0.002378</td>\n",
       "      <td>-999.000000</td>\n",
       "      <td>0.001856</td>\n",
       "      <td>0.002306</td>\n",
       "      <td>0.003030</td>\n",
       "      <td>0.003099</td>\n",
       "      <td>0.003038</td>\n",
       "      <td>0.000637</td>\n",
       "    </tr>\n",
       "    <tr>\n",
       "      <th>3861</th>\n",
       "      <td>0.005759</td>\n",
       "      <td>0.005370</td>\n",
       "      <td>0.004616</td>\n",
       "      <td>0.003070</td>\n",
       "      <td>0.001694</td>\n",
       "      <td>0.000133</td>\n",
       "      <td>0.000023</td>\n",
       "      <td>0.000018</td>\n",
       "      <td>0.000013</td>\n",
       "      <td>0.000011</td>\n",
       "      <td>...</td>\n",
       "      <td>0.004292</td>\n",
       "      <td>-999.000000</td>\n",
       "      <td>0.001582</td>\n",
       "      <td>-999.000000</td>\n",
       "      <td>0.005775</td>\n",
       "      <td>0.005371</td>\n",
       "      <td>0.004585</td>\n",
       "      <td>0.003015</td>\n",
       "      <td>0.001643</td>\n",
       "      <td>0.000139</td>\n",
       "    </tr>\n",
       "    <tr>\n",
       "      <th>2446</th>\n",
       "      <td>0.004493</td>\n",
       "      <td>0.005180</td>\n",
       "      <td>0.005870</td>\n",
       "      <td>0.005469</td>\n",
       "      <td>0.004430</td>\n",
       "      <td>0.000780</td>\n",
       "      <td>0.000037</td>\n",
       "      <td>0.000028</td>\n",
       "      <td>0.000019</td>\n",
       "      <td>0.000018</td>\n",
       "      <td>...</td>\n",
       "      <td>0.004994</td>\n",
       "      <td>0.004597</td>\n",
       "      <td>0.003919</td>\n",
       "      <td>0.000558</td>\n",
       "      <td>0.004397</td>\n",
       "      <td>0.005156</td>\n",
       "      <td>0.005876</td>\n",
       "      <td>0.005486</td>\n",
       "      <td>0.004490</td>\n",
       "      <td>0.000784</td>\n",
       "    </tr>\n",
       "    <tr>\n",
       "      <th>2447</th>\n",
       "      <td>0.005669</td>\n",
       "      <td>0.006006</td>\n",
       "      <td>0.005196</td>\n",
       "      <td>0.003796</td>\n",
       "      <td>0.002151</td>\n",
       "      <td>0.000408</td>\n",
       "      <td>0.000038</td>\n",
       "      <td>0.000030</td>\n",
       "      <td>0.000022</td>\n",
       "      <td>0.000020</td>\n",
       "      <td>...</td>\n",
       "      <td>0.004105</td>\n",
       "      <td>0.002771</td>\n",
       "      <td>0.001459</td>\n",
       "      <td>0.000227</td>\n",
       "      <td>0.006101</td>\n",
       "      <td>0.006273</td>\n",
       "      <td>0.005317</td>\n",
       "      <td>0.003859</td>\n",
       "      <td>0.002210</td>\n",
       "      <td>0.000358</td>\n",
       "    </tr>\n",
       "  </tbody>\n",
       "</table>\n",
       "<p>5 rows × 24 columns</p>\n",
       "</div>"
      ],
      "text/plain": [
       "       Rrs_412   Rrs_443   Rrs_490   Rrs_510   Rrs_555   Rrs_670  Rrs_unc_412  \\\n",
       "ID                                                                              \n",
       "2378  0.003447  0.003603  0.003490  0.002986  0.001872  0.000304     0.000032   \n",
       "1757  0.002103  0.002485  0.003109  0.003167  0.003060  0.000660     0.000034   \n",
       "3861  0.005759  0.005370  0.004616  0.003070  0.001694  0.000133     0.000023   \n",
       "2446  0.004493  0.005180  0.005870  0.005469  0.004430  0.000780     0.000037   \n",
       "2447  0.005669  0.006006  0.005196  0.003796  0.002151  0.000408     0.000038   \n",
       "\n",
       "      Rrs_unc_443  Rrs_unc_490  Rrs_unc_510       ...        insitu_Rrs490  \\\n",
       "ID                                                ...                        \n",
       "2378     0.000025     0.000018     0.000016       ...             0.003012   \n",
       "1757     0.000027     0.000020     0.000018       ...             0.002289   \n",
       "3861     0.000018     0.000013     0.000011       ...             0.004292   \n",
       "2446     0.000028     0.000019     0.000018       ...             0.004994   \n",
       "2447     0.000030     0.000022     0.000020       ...             0.004105   \n",
       "\n",
       "      insitu_Rrs510  insitu_Rrs555  insitu_Rrs670  seawifs_Rrs412  \\\n",
       "ID                                                                  \n",
       "2378    -999.000000    -999.000000       0.000162        0.003422   \n",
       "1757       0.002419       0.002378    -999.000000        0.001856   \n",
       "3861    -999.000000       0.001582    -999.000000        0.005775   \n",
       "2446       0.004597       0.003919       0.000558        0.004397   \n",
       "2447       0.002771       0.001459       0.000227        0.006101   \n",
       "\n",
       "      seawifs_Rrs443  seawifs_Rrs490  seawifs_Rrs510  seawifs_Rrs555  \\\n",
       "ID                                                                     \n",
       "2378        0.003582        0.003450        0.002970        0.001896   \n",
       "1757        0.002306        0.003030        0.003099        0.003038   \n",
       "3861        0.005371        0.004585        0.003015        0.001643   \n",
       "2446        0.005156        0.005876        0.005486        0.004490   \n",
       "2447        0.006273        0.005317        0.003859        0.002210   \n",
       "\n",
       "      seawifs_Rrs670  \n",
       "ID                    \n",
       "2378        0.000275  \n",
       "1757        0.000637  \n",
       "3861        0.000139  \n",
       "2446        0.000784  \n",
       "2447        0.000358  \n",
       "\n",
       "[5 rows x 24 columns]"
      ]
     },
     "execution_count": 33,
     "metadata": {},
     "output_type": "execute_result"
    }
   ],
   "source": [
    "dfComp.head()"
   ]
  },
  {
   "cell_type": "code",
   "execution_count": 34,
   "metadata": {
    "collapsed": false
   },
   "outputs": [],
   "source": [
    "dfComp.to_pickle('dfMatchupComp.pkl')"
   ]
  },
  {
   "cell_type": "code",
   "execution_count": null,
   "metadata": {
    "collapsed": true
   },
   "outputs": [],
   "source": []
  }
 ],
 "metadata": {
  "kernelspec": {
   "display_name": "Python [Root]",
   "language": "python",
   "name": "Python [Root]"
  },
  "language_info": {
   "codemirror_mode": {
    "name": "ipython",
    "version": 3
   },
   "file_extension": ".py",
   "mimetype": "text/x-python",
   "name": "python",
   "nbconvert_exporter": "python",
   "pygments_lexer": "ipython3",
   "version": "3.5.2"
  }
 },
 "nbformat": 4,
 "nbformat_minor": 0
}
