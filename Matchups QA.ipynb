{
 "cells": [
  {
   "cell_type": "markdown",
   "metadata": {},
   "source": [
    "## Matchups Analysis - Part 1\n",
    "This notebook is geared at quality assessments of the matchups runs."
   ]
  },
  {
   "cell_type": "code",
   "execution_count": 7,
   "metadata": {
    "collapsed": true
   },
   "outputs": [],
   "source": [
    "import pandas as pd\n",
    "import pickle\n",
    "import glob\n",
    "import os\n",
    "import netCDF4 as nc"
   ]
  },
  {
   "cell_type": "code",
   "execution_count": 8,
   "metadata": {
    "collapsed": true
   },
   "outputs": [],
   "source": [
    "def ReturnL2BaseName(splitChar='_',ext='L2'):\n",
    "    '''Generator yielding basename to search the matchups table'''\n",
    "# Building the list of files processed\n",
    "    l2fiDir = '/accounts/ekarakoy/disk02/UNCERTAINTIES/Monte-Carlo/Matchups/L2/AllFiles/'\n",
    "    l2Ext = '*.%s' % ext\n",
    "    searchPat = os.path.join(l2fiDir,l2Ext)\n",
    "    l2FiGenList = glob.iglob(searchPat)\n",
    "    for l2file in l2FiGenList:\n",
    "        basename = l2file.split('_')[0].split('/')[-1]\n",
    "        yield basename, l2file"
   ]
  },
  {
   "cell_type": "code",
   "execution_count": 34,
   "metadata": {
    "collapsed": true
   },
   "outputs": [],
   "source": [
    "def GetTarget(df,baseName):\n",
    "    return df[df['file_name'].str.contains(baseName)]\n",
    "\n",
    "def GetUncLatLonRng(fn):\n",
    "    '''Return lat/lon rng, from each file used in unc sim, as lat & lon tuples.'''\n",
    "    with nc.Dataset(fn) as ds:\n",
    "        naV = ds.groups['navigation_data'].variables\n",
    "        latitude = naV['latitude'][:]\n",
    "        longitude = naV['longitude'][:]\n",
    "    latRng = (latitude.min(),latitude.max())\n",
    "    lonRng = (longitude.min(),longitude.max())\n",
    "    return latRng,lonRng\n",
    "\n",
    "def CheckLocation(mUpLat,mUpLon,uncLatRng,uncLonRng):\n",
    "    global summaryLatIn\n",
    "    global summaryLonIn\n",
    "    global totalEntries\n",
    "    mLat_is_in_rng = [False] * len(mUpLon)\n",
    "    mLon_is_in_rng = [False] * len(mUpLat)\n",
    "    for i,e in enumerate(mUpLat):\n",
    "        totalEntries += 1\n",
    "        if e >= uncLatRng[0] and e <= uncLatRng[1]:\n",
    "            mLat_is_in_rng[i] = True\n",
    "            summaryLatIn += 1\n",
    "    for i,e in enumerate(mUpLon):\n",
    "        if e >= uncLonRng[0] and e <= uncLonRng[1]:\n",
    "            mLon_is_in_rng[i] = True\n",
    "            summaryLonIn += 1\n",
    "    return mLat_is_in_rng, mLon_is_in_rng    "
   ]
  },
  {
   "cell_type": "code",
   "execution_count": 29,
   "metadata": {
    "collapsed": true
   },
   "outputs": [],
   "source": [
    "def PlotLocationComp(uncLatRng,uncLonRng,mLat,mLon):\n",
    "    pass"
   ]
  },
  {
   "cell_type": "code",
   "execution_count": 10,
   "metadata": {
    "collapsed": true
   },
   "outputs": [],
   "source": [
    "# Load pandas Matchups table\n",
    "dfName = 'dfMatchUpSWF.pkl'\n",
    "if os.path.exists(dfName):\n",
    "    dfMatchups = pd.read_pickle(dfName)\n",
    "else:\n",
    "    print('File not found!!')"
   ]
  },
  {
   "cell_type": "code",
   "execution_count": 36,
   "metadata": {
    "collapsed": false
   },
   "outputs": [
    {
     "name": "stdout",
     "output_type": "stream",
     "text": [
      "S1999293204435\n",
      "S1999046171443\n",
      "S1998314160028\n",
      "S1997281102712\n",
      "S1997284110316\n",
      "S1999226220939\n",
      "S1998178131558\n",
      "S1998270224215\n",
      "S1998031221920\n",
      "S1998101164920\n",
      "S1998070200518\n",
      "S1999177170758\n",
      "S1998093172710\n",
      "S1998190171715\n",
      "S1997293192729\n",
      "S1998242095953\n",
      "S1998160130056\n",
      "S1999043164019\n",
      "S1998262200102\n",
      "S1998033220958\n",
      "S1999196162309\n",
      "S1998104204237\n",
      "S1998327172230\n",
      "S1999047225905\n",
      "S1998143101309\n",
      "S1999188170252\n",
      "S1999022205436\n",
      "S1998075221010\n",
      "S1997270134451\n",
      "S1998197155521\n",
      "S1998263204556\n",
      "S1999284204006\n",
      "S1998146104833\n",
      "S1997331000608\n",
      "S1999228202047\n",
      "S1999276194102\n",
      "S1998176114617\n",
      "S1999271110133\n",
      "S1998252023801\n",
      "S1998279161421\n",
      "S1998267202734\n",
      "S1999255122052\n",
      "S1998290224900\n",
      "S1998235112130\n",
      "S1998301174653\n",
      "S1999187161821\n",
      "S1998267170934\n",
      "S1999056162710\n",
      "S1998034225446\n",
      "S1997270202052\n",
      "S1999065212947\n",
      "S1999109175018\n",
      "S1999236162323\n",
      "S1998287135825\n",
      "S1998314173448\n",
      "S1999287225334\n",
      "S1998042221713\n",
      "S1999041164948\n",
      "S1997308172629\n",
      "S1999179134007\n",
      "S1999126153550\n",
      "S1999341163429\n",
      "S1999070070352\n",
      "S1999104172550\n",
      "S1999214163307\n",
      "S1999187175719\n",
      "S1999098161649\n",
      "S1998030195533\n",
      "S1998076225456\n",
      "S1997299190034\n",
      "S1998265040652\n",
      "S1997302193636\n",
      "S1999161164837\n",
      "S1999190034112\n",
      "S1999127162019\n",
      "S1999071074817\n",
      "S1998040222637\n",
      "S1998114231320\n",
      "S1998266130641\n",
      "S1998038223600\n",
      "S1998303173728\n",
      "S1998178113658\n",
      "S1997334202956\n",
      "S1998150120847\n",
      "S1998350162814\n",
      "S1997266172044\n",
      "S1998162125135\n",
      "S1999178125534\n",
      "S1999123150120\n",
      "S1998114131925\n",
      "S1999187030636\n",
      "S1998067192958\n",
      "S1997351163824\n",
      "S1999048220440\n",
      "S1998072195552\n",
      "S1999302155149\n",
      "S1999281200535\n",
      "S1999009012050\n",
      "S1998072163754\n",
      "S1998065193924\n",
      "S1997263200238\n",
      "S2001268195215\n",
      "S1998179153948\n",
      "S1997280161810\n",
      "S1999269111130\n",
      "S1999191024644\n",
      "S1998117171242\n",
      "S1998074194625\n",
      "S1999201232346\n",
      "S1998015165312\n",
      "S1999339002028\n",
      "S1999283195537\n",
      "S1999060174525\n",
      "S1999343230456\n",
      "S1998027205905\n",
      "S1998104172439\n",
      "S1999029125458\n",
      "S1998029222842\n",
      "S1999311173027\n",
      "S1999260110634\n",
      "S1998176132516\n",
      "S1998244162642\n",
      "S1999062155820\n",
      "S1998136095637\n",
      "S1999349223340\n",
      "S1999186171247\n",
      "S1999042173351\n",
      "S1998265171846\n",
      "S1998071191105\n",
      "S1998099201645\n",
      "S1999085063829\n",
      "S1999057071854\n",
      "S1999011223745\n",
      "S1998342170046\n",
      "S1999221200555\n",
      "182 Lats and 184 Lons, out of 185 are in range.\n"
     ]
    }
   ],
   "source": [
    "baseNameGen = ReturnL2BaseName()\n",
    "myUncData = ['basename','uncLatRng','uncLonRng','mUpData']\n",
    "myMUpData = ['mUpNumEntries','mUpId','mUpLat','mUpLon','mUpInLatRng','mUpInLonRng']\n",
    "mUpDict = dict.fromkeys(myMUpData)\n",
    "mainDict = {myD:[] for myD in myUncData}\n",
    "summaryLatIn,summaryLonIn,totalEntries = 0,0,0\n",
    "for baseName,l2FileName in baseNameGen:\n",
    "    dfSub = GetTarget(dfMatchups,baseName)\n",
    "    mUpId = dfSub.index.values\n",
    "    mUpLat = dfSub.latitude.values\n",
    "    mUpLon = dfSub.longitude.values\n",
    "    uncLatRng, uncLonRng = GetUncLatLonRng(l2FileName)\n",
    "    mUpInLatRng,mUpInLonRng = CheckLocation(mUpLat,mUpLon,uncLatRng,uncLonRng)\n",
    "    mainDict['basename'].append(baseName)\n",
    "    mainDict['uncLatRng'].append(uncLatRng)\n",
    "    mainDict['uncLonRng'].append(uncLonRng)\n",
    "    mUpDict['mUpNumEntries'] = len(mUpId)\n",
    "    mUpDict['mUpId'] = mUpId\n",
    "    mUpDict['mUpLat'] = mUpLat\n",
    "    mUpDict['mUpLon'] = mUpLon\n",
    "    mUpDict['mUpInLatRng'] = mUpInLatRng\n",
    "    mUpDict['mUpInLonRng'] = mUpInLonRng\n",
    "    mainDict['mUpData'].append(mUpDict)\n",
    "print(\"%d Lats and %d Lons, out of %d are in range.\" % (summaryLatIn, \n",
    "                                                        summaryLonIn,totalEntries))"
   ]
  },
  {
   "cell_type": "code",
   "execution_count": 25,
   "metadata": {
    "collapsed": false
   },
   "outputs": [
    {
     "data": {
      "text/plain": [
       "{'mUpId': array([2113]),\n",
       " 'mUpInLatRng': [True],\n",
       " 'mUpInLonRng': [True],\n",
       " 'mUpLat': array([ 31.183]),\n",
       " 'mUpLon': array([-120.935]),\n",
       " 'mUpNumEntries': 1}"
      ]
     },
     "execution_count": 25,
     "metadata": {},
     "output_type": "execute_result"
    }
   ],
   "source": [
    "mUpDict"
   ]
  },
  {
   "cell_type": "code",
   "execution_count": 30,
   "metadata": {
    "collapsed": false
   },
   "outputs": [
    {
     "data": {
      "text/plain": [
       "135"
      ]
     },
     "execution_count": 30,
     "metadata": {},
     "output_type": "execute_result"
    }
   ],
   "source": [
    "len(mainDict['basename'])"
   ]
  },
  {
   "cell_type": "code",
   "execution_count": 38,
   "metadata": {
    "collapsed": false
   },
   "outputs": [],
   "source": [
    "pickle.dump(mainDict,open('matchupsQADict_1.pkl','wb'))"
   ]
  },
  {
   "cell_type": "code",
   "execution_count": null,
   "metadata": {
    "collapsed": true
   },
   "outputs": [],
   "source": []
  }
 ],
 "metadata": {
  "kernelspec": {
   "display_name": "Python [Root]",
   "language": "python",
   "name": "Python [Root]"
  },
  "language_info": {
   "codemirror_mode": {
    "name": "ipython",
    "version": 3
   },
   "file_extension": ".py",
   "mimetype": "text/x-python",
   "name": "python",
   "nbconvert_exporter": "python",
   "pygments_lexer": "ipython3",
   "version": "3.5.2"
  }
 },
 "nbformat": 4,
 "nbformat_minor": 0
}
