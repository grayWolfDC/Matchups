{
 "cells": [
  {
   "cell_type": "markdown",
   "metadata": {},
   "source": [
    "## Matchups Analysis - Part 1\n",
    "This notebook is geared at quality assessments of the matchups runs."
   ]
  },
  {
   "cell_type": "code",
   "execution_count": null,
   "metadata": {
    "collapsed": true
   },
   "outputs": [],
   "source": [
    "import numpy as np\n",
    "\n",
    "\n",
    "def value_locate(refx, x):\n",
    "    \"\"\"\n",
    "    VALUE_LOCATE locates the positions of given values within a\n",
    "    reference array.  The reference array need not be regularly\n",
    "    spaced.  This is useful for various searching, sorting and\n",
    "    interpolation algorithms.\n",
    "    The reference array should be a monotonically increasing or\n",
    "    decreasing list of values which partition the real numbers.  A\n",
    "    reference array of NBINS numbers partitions the real number line\n",
    "    into NBINS+1 regions, like so:\n",
    "    REF:           X[0]         X[1]   X[2] X[3]     X[NBINS-1]\n",
    "        <----------|-------------|------|---|----...---|--------------->\n",
    "    INDICES:  -1           0          1    2       3        NBINS-1\n",
    "    VALUE_LOCATE returns which partition each of the VALUES falls\n",
    "    into, according to the figure above.  For example, a value between\n",
    "    X[1] and X[2] would return a value of 1.  Values below X[0] return\n",
    "    -1, and above X[NBINS-1] return NBINS-1.  Thus, besides the value\n",
    "    of -1, the returned INDICES refer to the nearest reference value\n",
    "    to the left of the requested value.\n",
    "    \n",
    "    Example:\n",
    "    >>> refx = [2, 4, 6, 8, 10]\n",
    "    >>> x = [-1, 1, 2, 3, 5, 5, 5, 8, 12, 30]\n",
    "    >>> print value_locate(refx, x)\n",
    "    array([-1, -1,  0,  0,  1,  1,  1,  3,  4,  4])\n",
    "    \n",
    "    \n",
    "    This implementation is likely no the most efficient one, as there is\n",
    "    a loop over all x, which will in practice be long. As long as x is\n",
    "    shorter than 1e6 or so elements, it should still be fast (~sec).\n",
    "    \n",
    "    \n",
    "    \"\"\"\n",
    "    print (\"TODO: check if refx is monotonically increasing.\")\n",
    "    \n",
    "    refx = np.array(refx)\n",
    "    x = np.array(x)\n",
    "    loc = np.zeros(len(x), dtype='int')\n",
    "    \n",
    "    for i in range(len(x)):\n",
    "        ix = x[i]\n",
    "        ind = ((refx - ix) <= 0).nonzero()[0]\n",
    "        if len(ind) == 0:\n",
    "            loc[i] = -1\n",
    "        else: loc[i] = ind[-1]\n",
    "    \n",
    "    return loc\n",
    "    \n",
    "if __name__ ==\"__main__\":\n",
    "    # test case\n",
    "    refx = [2, 4, 6, 8, 10]\n",
    "    x = [-1, 1, 2, 3, 5, 5, 5, 8, 12, 30]\n",
    "    \n",
    "    res = value_locate(refx, x)\n",
    "    assert list(res) == [-1, -1,  0,  0,  1,  1,  1,  3,  4,  4]\n",
    "    print (\"Test(s) passed!\")\n",
    "    \n",
    "    x= np.random.random(1e6)*20\n",
    "    res = value_locate(refx, x)\n",
    "    print (\"Done!\")"
   ]
  },
  {
   "cell_type": "code",
   "execution_count": 356,
   "metadata": {
    "collapsed": true
   },
   "outputs": [],
   "source": [
    "def popcount(a):\n",
    "    \"\"\"\n",
    "    Computes the popcount (Hamming Weight) of a numpy array of 32-bit integers. The popcount of an integer is the \n",
    "    number of set bits in an integer. http://en.wikipedia.org/wiki/Hamming_weight\n",
    "    \n",
    "    Parameters:\n",
    "    -----------\n",
    "    a: array_like, dtype=uint32, shape=(n,m)\n",
    "      An array of 32-bit integers. Note that the type is not important as long as the values are smaller than 2**32-1\n",
    "    \n",
    "    Returns:\n",
    "    --------\n",
    "    popcounts: array_like, dtype=uint32, shape=(n,m)\n",
    "      An array containing the popcount for each element of a\n",
    "    \"\"\"\n",
    "    a -= np.bitwise_and(np.right_shift(a, 1), 0x55555555)\n",
    "    a = np.bitwise_and(a, 0x33333333) + np.bitwise_and(np.right_shift(a, 2), 0x33333333)\n",
    "    return np.right_shift(np.bitwise_and((np.bitwise_and(a + np.right_shift(a, 4), 0xF0F0F0F) * 0x1010101), 0xffffffff), 24)"
   ]
  },
  {
   "cell_type": "code",
   "execution_count": 1,
   "metadata": {
    "collapsed": true
   },
   "outputs": [],
   "source": [
    "import pandas as pd\n",
    "import pickle\n",
    "import glob\n",
    "import os\n",
    "import netCDF4 as nc\n",
    "import numpy as np\n",
    "import re"
   ]
  },
  {
   "cell_type": "code",
   "execution_count": 2,
   "metadata": {
    "collapsed": true
   },
   "outputs": [],
   "source": [
    "def ReturnL2BaseName(splitChar='_',ext='L2'):\n",
    "    '''Generator. Yields basename to search the matchups table'''\n",
    "# Building the list of files processed\n",
    "    l2fiDir = '/accounts/ekarakoy/disk02/UNCERTAINTIES/Monte-Carlo/Matchups/L2/AllFiles/'\n",
    "    l2Ext = '*.%s' % ext\n",
    "    searchPat = os.path.join(l2fiDir,l2Ext)\n",
    "    l2FiGenList = glob.iglob(searchPat)\n",
    "    for l2file in l2FiGenList:\n",
    "        basename = l2file.split('_')[0].split('/')[-1]\n",
    "        yield basename, l2file"
   ]
  },
  {
   "cell_type": "code",
   "execution_count": 3,
   "metadata": {
    "collapsed": true
   },
   "outputs": [],
   "source": [
    "def GetData(fn,bands=['412','443','490','510','555','670']):\n",
    "    rrsDict = dict.fromkeys(bands)\n",
    "    rrsUncDict = dict.fromkeys(bands)\n",
    "    with nc.Dataset(fn) as ds:\n",
    "        gpV = ds.groups['geophysical_data'].variables\n",
    "        for band in bands:\n",
    "            try:\n",
    "                rrsDict[band] = gpV['Rrs_%s' % band ][:]\n",
    "                rrsUncDict[band] = gpV['Rrs_unc_%s' % band][:]\n",
    "            except KeyError:\n",
    "                rrsDict, rrsUncDict = None,None\n",
    "                break\n",
    "    return rrsDict,rrsUncDict"
   ]
  },
  {
   "cell_type": "code",
   "execution_count": 4,
   "metadata": {
    "collapsed": true
   },
   "outputs": [],
   "source": [
    "def GetTarget(df,baseName):\n",
    "    '''Generator. Yields dataframe indices relevant to a given L2 file.'''\n",
    "    dfSub = df[df['file_name'].str.contains(baseName)]\n",
    "    for idx in dfSub.index.values:\n",
    "        yield idx\n",
    "        \n",
    "def GetUncLatLonRng(fn):\n",
    "    '''Return lat/lon rng, from each file used in unc sim, as lat & lon tuples.'''\n",
    "    with nc.Dataset(fn) as ds:\n",
    "        naV = ds.groups['navigation_data'].variables\n",
    "        latitude = naV['latitude'][:]\n",
    "        longitude = naV['longitude'][:]\n",
    "    latRng = (latitude.min(),latitude.max())\n",
    "    lonRng = (longitude.min(),longitude.max())\n",
    "    return latRng,lonRng,latitude,longitude\n",
    "\n",
    "def CheckLocation(mUpLat,mUpLon,uncLatRng,uncLonRng):\n",
    "    mLat_is_in_rng = False\n",
    "    mLon_is_in_rng = False\n",
    "    if mUpLat >= uncLatRng[0] and mUpLat <= uncLatRng[1]:\n",
    "        mLat_is_in_rng = True\n",
    "    if mUpLon >= uncLonRng[0] and mUpLon <= uncLonRng[1]:\n",
    "        mLon_is_in_rng = True\n",
    "    return mLat_is_in_rng, mLon_is_in_rng    "
   ]
  },
  {
   "cell_type": "code",
   "execution_count": 5,
   "metadata": {
    "collapsed": true
   },
   "outputs": [],
   "source": [
    "def GetCntrPxlRowCol(latArray,mUpLat,lonArray,mUpLon):\n",
    "    latLonDist = abs(latArray - mUpLat) + abs(lonArray - mUpLon)\n",
    "    i,j = np.unravel_index(latLonDist.argmin(),latLonDist.shape)\n",
    "    boxValid = (np.array((i,j)) >1).all() and i < (uncLat.shape[0] - 2)  \\\n",
    "                and j < (uncLat.shape[1] - 2)\n",
    "    return (i,j),boxValid"
   ]
  },
  {
   "cell_type": "code",
   "execution_count": null,
   "metadata": {
    "collapsed": true
   },
   "outputs": [],
   "source": [
    "def ValidateData(data,boxCntrRowCol,boxSide=5):\n",
    "    '''\n",
    "    This assumes SeaWiFS\n",
    "    data is a dictionary containing Rrs_412...555, and aot_865\n",
    "    \n",
    "    Given a box center\n",
    "    \n",
    "    '''"
   ]
  },
  {
   "cell_type": "code",
   "execution_count": 6,
   "metadata": {
    "collapsed": false
   },
   "outputs": [],
   "source": [
    "def GetStats(rrsDict,rrsUncDict,mUpRrsDict,boxCntrRowCol,filteredMean=True):\n",
    "    '''\n",
    "    If filteredMean is True:\n",
    "    the mean is calculated for points within +/-1.5sigma of the mean of the \n",
    "    box where sigma is the stdev of the unfiltered (5x5) box\n",
    "    '''\n",
    "    bands = rrsDict.keys()\n",
    "    subRrsDict = dict.fromkeys(bands)\n",
    "    subRrsUncDict = dict.fromkeys(bands)\n",
    "    subMupRrsUncDict = dict.fromkeys(bands)\n",
    "    i,j = boxCntrRowCol\n",
    "    boxXRng = [i - 2,i + 3]\n",
    "    boxYRng = [j - 2,j + 3]\n",
    "    for band in bands:\n",
    "        #print(band)\n",
    "        subRrs = rrsDict[band][boxXRng[0]:boxXRng[1],boxYRng[0]:boxYRng[1]]\n",
    "        subRrsUnc = rrsUncDict[band][boxXRng[0]:boxXRng[1],boxYRng[0]:boxYRng[1]]\n",
    "        try: # QA on Rrs -- TODO: expand QA to mach B&W2006\n",
    "            if subRrs.compressed().size >= (subRrs.size / 2):\n",
    "                subRrsDict[band] = subRrs.compressed().mean()\n",
    "                mUpSatDiff = mUpRrsDict[band] - subRrs.compressed()\n",
    "                sqrdDiff = np.power(mUpSatDiff,2)\n",
    "                mUpRrsUnc = np.sqrt(sqrdDiff.sum() / subRrs.compressed().size)\n",
    "                subMupRrsUncDict[band] = mUpRrsUnc\n",
    "            else:\n",
    "                subRrsDict[band] = np.nan\n",
    "                subMupRrsUncDict[band] = np.nan\n",
    "        except AttributeError:\n",
    "            subRrsDict[band] = subRrs.mean()\n",
    "        try: # QA on Rrs_unc\n",
    "            if subRrsUnc.compressed().size >= (subRrsUnc.size / 2):\n",
    "                subRrsUncDict[band] = np.sqrt(np.sum(np.power(subRrsUnc.compressed(),2))) / \\\n",
    "                                                subRrsUnc.compressed().size\n",
    "            else:\n",
    "                subRrsUncDict[band] = np.nan\n",
    "        except AttributeError:\n",
    "            subRrsUncDict[band]\n",
    "    return subRrsDict, subRrsUncDict, subMupRrsUncDict"
   ]
  },
  {
   "cell_type": "code",
   "execution_count": 7,
   "metadata": {
    "collapsed": false
   },
   "outputs": [],
   "source": [
    "# Load pandas Matchups table\n",
    "dfName = 'dfMatchUpSWF.pkl'\n",
    "if os.path.exists(dfName):\n",
    "    dfMatchups = pd.read_pickle(dfName)\n",
    "    dfMatchups[dfMatchups==-999] = np.nan\n",
    "else:\n",
    "    print('File not found!!')"
   ]
  },
  {
   "cell_type": "code",
   "execution_count": 54,
   "metadata": {
    "collapsed": true
   },
   "outputs": [],
   "source": [
    "# get whether a particular index' lat AND lon is within interval: \n",
    "    # record idx, basename, uncLatRng, mUpInLatRng, uncLonRng, mUpInLonRng: \n",
    "    # => dict #1\n",
    "# for indices with lat AND lon in range: \n",
    "    # record idx, pixel coords in corresponding file,  \n",
    "    # whether box of 5x5 around pixel coord is possible,\n",
    "    # and number of valid cells in the 5x5 box.\n",
    "    # => dict #2\n",
    "# for validated indices:\n",
    "    # record idx, basename, unc_Rrs_vvv,  unc_Rrs_unc_vvv\n",
    "    # note that unc_Rrs_unc_vvv (like unc_Rrs_vvv) is calculated from the 5x5 box \n",
    "    # surrounding the pixel coord in dict #2. As such unc_Rrs_unc_vvv is calculated by \n",
    "    # propagating the uncertainties of the cells in the 5x5 box.\n",
    "    # => dict #3\n"
   ]
  },
  {
   "cell_type": "code",
   "execution_count": 8,
   "metadata": {
    "collapsed": false
   },
   "outputs": [
    {
     "data": {
      "text/plain": [
       "Index(['cruise_name', 'file_name', 'date_time', 'latitude', 'longitude',\n",
       "       'seawifs_npixel', 'seawifs_tdiff', 'seawifs_solz', 'seawifs_senz',\n",
       "       'seawifs_cv', 'seawifs_es_thresh', 'seawifs_windspeed', 'insitu_Rrs412',\n",
       "       'insitu_Rrs443', 'insitu_Rrs490', 'insitu_Rrs510', 'insitu_Rrs555',\n",
       "       'insitu_Rrs670', 'seawifs_Rrs412', 'seawifs_Rrs443', 'seawifs_Rrs490',\n",
       "       'seawifs_Rrs510', 'seawifs_Rrs555', 'seawifs_Rrs670', 'L1_name'],\n",
       "      dtype='object')"
      ]
     },
     "execution_count": 8,
     "metadata": {},
     "output_type": "execute_result"
    }
   ],
   "source": [
    "dfMatchups.columns"
   ]
  },
  {
   "cell_type": "code",
   "execution_count": 12,
   "metadata": {
    "collapsed": true
   },
   "outputs": [],
   "source": [
    "def GetMupRrs(df,idx):\n",
    "    ser = df.loc[idx,:].filter(regex='insitu')\n",
    "    lst = ser.index.tolist()\n",
    "    bandFinder = re.compile('insitu_Rrs([0-9]+)')\n",
    "    bands = [bandFinder.findall(lbl)[0] for lbl in lst]\n",
    "    mUpDict = dict.fromkeys(bands)\n",
    "    for band in bands:\n",
    "        mUpDict[band] = ser.filter(regex=band).values[0]\n",
    "    return mUpDict"
   ]
  },
  {
   "cell_type": "code",
   "execution_count": 20,
   "metadata": {
    "collapsed": false
   },
   "outputs": [],
   "source": [
    "'''\n",
    "Run this to construct several dictionaries \n",
    "Dict 1 contains summary info about all matchup entries and whether the row is valid, \n",
    "i.e. whether both in situ lat/lon are contained in the corresponding UNC. scene.\n",
    "Dict 2 contains info on the matchup box and whether. \n",
    "Dict 3 contains data and stats from matchups & corresponding MC uncertainty runs\n",
    "Dict 4\n",
    "'''\n",
    "dict1Labels = ['ID','uncLatRng','mUpInLatRng','uncLonRng','mUpInLonRng','rowValid']\n",
    "dict2Labels = ['ID','boxCntrRowCol','boxValid','numValCells']\n",
    "dict3Labels = ['ID']\n",
    "bands = ['412','443','490','510','555','670']\n",
    "for band in bands:\n",
    "    dict3Labels.append('insitu_Rrs%s' % band)\n",
    "    dict3Labels.append('seawifs_Rrs%s' % band)\n",
    "    dict3Labels.append('Rrs_%s' % band)\n",
    "    dict3Labels.append('Matchup_Rrs_unc_%s' % band)\n",
    "    dict3Labels.append('Rrs_unc_%s' % band)\n",
    "summaryLatIn, summaryLonIn, totalEntries = 0,0,0\n",
    "dict1 = {dcl: [] for dcl in dict1Labels}\n",
    "dict2 = {dcl: [] for dcl in dict2Labels}\n",
    "dict3 = {dcl: [] for dcl in dict3Labels}\n",
    "dict4 = {}\n",
    "baseNameGen = ReturnL2BaseName()\n",
    "# go through files\n",
    "totalFiles = 0\n",
    "totalRows = 0\n",
    "for baseName,l2FileName in baseNameGen:\n",
    "    totalFiles += 1\n",
    "    dfIdcs = GetTarget(dfMatchups,baseName)\n",
    "    dict4[baseName] = []\n",
    "    # go through all rows corresponding to a given file \n",
    "    firstPass = True\n",
    "    for dfIdx in dfIdcs:\n",
    "        totalRows += 1\n",
    "        # first task is to figure out whether a valid correspondence exists between\n",
    "        # matchup data and the relevant l2 file...\n",
    "        dict1['ID'].append(dfIdx)\n",
    "        mUpLat = dfMatchups.latitude[dfIdx]\n",
    "        mUpLon = dfMatchups.longitude[dfIdx]\n",
    "        uncLatRng, uncLonRng, uncLat, uncLon = GetUncLatLonRng(l2FileName)\n",
    "        dict1['uncLatRng'].append(uncLatRng)\n",
    "        dict1['uncLonRng'].append(uncLonRng)\n",
    "        mUpInLatRng, mUpInLonRng = CheckLocation(mUpLat, mUpLon, uncLatRng, uncLonRng)\n",
    "        dict1['mUpInLatRng'].append(mUpInLatRng)\n",
    "        dict1['mUpInLonRng'].append(mUpInLonRng)\n",
    "        rowValid = mUpInLatRng and mUpInLonRng\n",
    "        dict1['rowValid'].append(rowValid)\n",
    "        if rowValid:\n",
    "            dict2['ID'].append(dfIdx)\n",
    "            # Get cell closest in lat/lon to corres. mUp lat/lon\n",
    "            roColTpl,boxVal = GetCntrPxlRowCol(uncLat, mUpLat, uncLon, mUpLon)\n",
    "            dict2['boxCntrRowCol'].append(roColTpl)\n",
    "            dict2['boxValid'].append(boxVal)\n",
    "            if boxVal:\n",
    "                if firstPass:\n",
    "                    # Load file data (once even if multiple matchups in the same scene)\n",
    "                    firstPass = False\n",
    "                    rrsDict,rrsUncDict = GetData(l2FileName)\n",
    "                    mUpRrsDict = GetMupRrs(dfMatchups,dfIdx)\n",
    "                if not rrsDict or not rrsUncDict:\n",
    "                    continue\n",
    "                subRrsDict,subRrsUncDict,subMupRrsUncDict = GetStats(rrsDict,\n",
    "                                                                     rrsUncDict,\n",
    "                                                                     mUpRrsDict,\n",
    "                                                                     boxCntrRowCol=roColTpl)\n",
    "                for band in bands:\n",
    "                    dict3['insitu_Rrs%s' % band].append(dfMatchups.loc[dfIdx,'insitu_Rrs%s' % band])\n",
    "                    dict3['seawifs_Rrs%s' % band].append(dfMatchups.loc[dfIdx,'seawifs_Rrs%s' % band])\n",
    "                    dict3['Rrs_%s' % band].append(subRrsDict[band])\n",
    "                    dict3['Rrs_unc_%s' % band].append(subRrsUncDict[band])\n",
    "                    dict3['Matchup_Rrs_unc_%s' % band].append(subMupRrsUncDict[band])\n",
    "                dict3['ID'].append(dfIdx)\n",
    "                dict4[baseName].append(dfIdx)"
   ]
  },
  {
   "cell_type": "code",
   "execution_count": 21,
   "metadata": {
    "collapsed": false
   },
   "outputs": [
    {
     "name": "stdout",
     "output_type": "stream",
     "text": [
      "seawifs_Rrs670 -- 181\n",
      "Matchup_Rrs_unc_412 -- 181\n",
      "Rrs_510 -- 181\n",
      "Rrs_412 -- 181\n",
      "insitu_Rrs510 -- 181\n",
      "Matchup_Rrs_unc_510 -- 181\n",
      "Rrs_unc_412 -- 181\n",
      "seawifs_Rrs555 -- 181\n",
      "Rrs_555 -- 181\n",
      "insitu_Rrs670 -- 181\n",
      "Rrs_unc_443 -- 181\n",
      "Rrs_670 -- 181\n",
      "Rrs_unc_510 -- 181\n",
      "Matchup_Rrs_unc_670 -- 181\n",
      "seawifs_Rrs490 -- 181\n",
      "Rrs_443 -- 181\n",
      "insitu_Rrs412 -- 181\n",
      "Rrs_unc_670 -- 181\n",
      "insitu_Rrs555 -- 181\n",
      "Matchup_Rrs_unc_490 -- 181\n",
      "insitu_Rrs490 -- 181\n",
      "ID -- 181\n",
      "Rrs_unc_490 -- 181\n",
      "Rrs_490 -- 181\n",
      "Matchup_Rrs_unc_443 -- 181\n",
      "Matchup_Rrs_unc_555 -- 181\n",
      "seawifs_Rrs412 -- 181\n",
      "seawifs_Rrs443 -- 181\n",
      "seawifs_Rrs510 -- 181\n",
      "Rrs_unc_555 -- 181\n",
      "insitu_Rrs443 -- 181\n"
     ]
    }
   ],
   "source": [
    "for key in dict3.keys():\n",
    "    print(\"%s -- %d\" %(key, len(dict3[key])))"
   ]
  },
  {
   "cell_type": "code",
   "execution_count": 22,
   "metadata": {
    "collapsed": true
   },
   "outputs": [],
   "source": [
    "dfMupUncComp = pd.DataFrame(dict3)\n",
    "dfMupUncComp.set_index('ID',inplace=True)"
   ]
  },
  {
   "cell_type": "code",
   "execution_count": 23,
   "metadata": {
    "collapsed": false
   },
   "outputs": [
    {
     "data": {
      "text/plain": [
       "Index(['Matchup_Rrs_unc_412', 'Matchup_Rrs_unc_443', 'Matchup_Rrs_unc_490',\n",
       "       'Matchup_Rrs_unc_510', 'Matchup_Rrs_unc_555', 'Matchup_Rrs_unc_670',\n",
       "       'Rrs_412', 'Rrs_443', 'Rrs_490', 'Rrs_510', 'Rrs_555', 'Rrs_670',\n",
       "       'Rrs_unc_412', 'Rrs_unc_443', 'Rrs_unc_490', 'Rrs_unc_510',\n",
       "       'Rrs_unc_555', 'Rrs_unc_670', 'insitu_Rrs412', 'insitu_Rrs443',\n",
       "       'insitu_Rrs490', 'insitu_Rrs510', 'insitu_Rrs555', 'insitu_Rrs670',\n",
       "       'seawifs_Rrs412', 'seawifs_Rrs443', 'seawifs_Rrs490', 'seawifs_Rrs510',\n",
       "       'seawifs_Rrs555', 'seawifs_Rrs670'],\n",
       "      dtype='object')"
      ]
     },
     "execution_count": 23,
     "metadata": {},
     "output_type": "execute_result"
    }
   ],
   "source": [
    "dfMupUncComp.columns"
   ]
  },
  {
   "cell_type": "code",
   "execution_count": 26,
   "metadata": {
    "collapsed": false
   },
   "outputs": [
    {
     "data": {
      "text/plain": [
       "Index(['Matchup_Rrs_unc_412', 'Matchup_Rrs_unc_443', 'Matchup_Rrs_unc_490',\n",
       "       'Matchup_Rrs_unc_510', 'Matchup_Rrs_unc_555', 'Matchup_Rrs_unc_670',\n",
       "       'Rrs_unc_412', 'Rrs_unc_443', 'Rrs_unc_490', 'Rrs_unc_510',\n",
       "       'Rrs_unc_555', 'Rrs_unc_670'],\n",
       "      dtype='object')"
      ]
     },
     "execution_count": 26,
     "metadata": {},
     "output_type": "execute_result"
    }
   ],
   "source": [
    "dfMupUncComp.filter(regex='Rrs_unc',axis=1).columns"
   ]
  },
  {
   "cell_type": "code",
   "execution_count": 27,
   "metadata": {
    "collapsed": false
   },
   "outputs": [],
   "source": [
    "dfMupUncComp.to_pickle('dfMupUncComp.pkl')"
   ]
  },
  {
   "cell_type": "code",
   "execution_count": 279,
   "metadata": {
    "collapsed": false
   },
   "outputs": [
    {
     "data": {
      "text/plain": [
       "Index(['cruise_name', 'file_name', 'date_time', 'latitude', 'longitude',\n",
       "       'seawifs_npixel', 'seawifs_tdiff', 'seawifs_solz', 'seawifs_senz',\n",
       "       'seawifs_cv', 'seawifs_es_thresh', 'seawifs_windspeed', 'insitu_Rrs412',\n",
       "       'insitu_Rrs443', 'insitu_Rrs490', 'insitu_Rrs510', 'insitu_Rrs555',\n",
       "       'insitu_Rrs670', 'seawifs_Rrs412', 'seawifs_Rrs443', 'seawifs_Rrs490',\n",
       "       'seawifs_Rrs510', 'seawifs_Rrs555', 'seawifs_Rrs670', 'L1_name'],\n",
       "      dtype='object')"
      ]
     },
     "execution_count": 279,
     "metadata": {},
     "output_type": "execute_result"
    }
   ],
   "source": []
  },
  {
   "cell_type": "code",
   "execution_count": 28,
   "metadata": {
    "collapsed": true
   },
   "outputs": [],
   "source": [
    "pickle.dump(dict1,open('dictRowQA.pkl','wb'))\n",
    "pickle.dump(dict2,open('dictBoxQA.pkl','wb'))\n",
    "pickle.dump(dict4,open('dictIdToBsnm.pkl','wb'))"
   ]
  },
  {
   "cell_type": "code",
   "execution_count": 372,
   "metadata": {
    "collapsed": false
   },
   "outputs": [],
   "source": [
    "flagList=['AtmFail','Land','BadAnc.','HiGlint','HiLt','HiSatZen','CoastZ','NegLw','StrayLight',\n",
    "'CldIce','Cocco','TurbidW','HiSolZen','HiTau','LowLw','ChlFail','NavWarn','AbsAer',\n",
    "'Tricho','MaxAerIter','ModGlint','ChlWarn','AtmWarn','DarkPixel','SeaIce','NavFail',\n",
    "'Filter','SstWarn','SstFail','HiPol','spare','Ocean']\n",
    "flagBitDict={e:i for i,e in enumerate(flagList)}"
   ]
  },
  {
   "cell_type": "code",
   "execution_count": 369,
   "metadata": {
    "collapsed": false
   },
   "outputs": [],
   "source": [
    "flagBits=0\n",
    "pfd = dict.fromkeys(flagList)\n",
    "for key in flagBitDict.keys():\n",
    "    flagBit = 2**key\n",
    "    if (flagBit & l2flags[rowcol]) > 0:\n",
    "        pfd[flagBitDict[key]] = 'On'\n",
    "    else:\n",
    "        pfd[flagBitDict[key]] = 'Off'"
   ]
  },
  {
   "cell_type": "code",
   "execution_count": 364,
   "metadata": {
    "collapsed": false
   },
   "outputs": [
    {
     "data": {
      "text/plain": [
       "array([[ True,  True,  True,  True,  True],\n",
       "       [ True,  True,  True,  True,  True],\n",
       "       [ True,  True,  True,  True,  True],\n",
       "       [ True,  True,  True,  True,  True],\n",
       "       [ True,  True,  True,  True,  True]], dtype=bool)"
      ]
     },
     "execution_count": 364,
     "metadata": {},
     "output_type": "execute_result"
    }
   ],
   "source": [
    "(l2flags[boxXRng[0]:boxXRng[1],boxYRng[0]:boxYRng[1]] & flagBits)>0"
   ]
  },
  {
   "cell_type": "code",
   "execution_count": 359,
   "metadata": {
    "collapsed": false
   },
   "outputs": [
    {
     "data": {
      "text/plain": [
       "array([[4, 4, 4, 4, 4],\n",
       "       [5, 4, 4, 4, 4],\n",
       "       [5, 5, 4, 2, 2],\n",
       "       [5, 5, 5, 4, 2],\n",
       "       [5, 5, 5, 5, 2]])"
      ]
     },
     "execution_count": 359,
     "metadata": {},
     "output_type": "execute_result"
    }
   ],
   "source": [
    "popcount(l2flags[boxXRng[0]:boxXRng[1],boxYRng[0]:boxYRng[1]])"
   ]
  },
  {
   "cell_type": "code",
   "execution_count": 349,
   "metadata": {
    "collapsed": false
   },
   "outputs": [
    {
     "data": {
      "text/plain": [
       "array([[1074791168, 1074791168, 1074791168, 1074791168, 1074791168],\n",
       "       [1074791184, 1074791168, 1074791168, 1074791168, 1074791168],\n",
       "       [1074791184, 1074791184, 1074791168,    1048832,    1048832],\n",
       "       [1074791184, 1074791184, 1074791184, 1074791168,    1048832],\n",
       "       [1074791184, 1074791184, 1074791184, 1074791184,    1048832]], dtype=int32)"
      ]
     },
     "execution_count": 349,
     "metadata": {},
     "output_type": "execute_result"
    }
   ],
   "source": [
    "l2flags[boxXRng[0]:boxXRng[1],boxYRng[0]:boxYRng[1]]"
   ]
  },
  {
   "cell_type": "code",
   "execution_count": 267,
   "metadata": {
    "collapsed": false
   },
   "outputs": [],
   "source": [
    "bands = rrsDict.keys()\n",
    "subRrsDict = dict.fromkeys(bands)\n",
    "subRrsUncDict = dict.fromkeys(bands)\n",
    "i,j = roColTpl\n",
    "boxXRng = [i - 2,i + 3]\n",
    "boxYRng = [j - 2,j + 3]\n",
    "band='510'\n",
    "subRrs = rrsDict[band][boxXRng[0]:boxXRng[1],boxYRng[0]:boxYRng[1]]\n",
    "subRrsUnc = rrsUncDict[band][boxXRng[0]:boxXRng[1],boxYRng[0]:boxYRng[1]]"
   ]
  },
  {
   "cell_type": "code",
   "execution_count": 204,
   "metadata": {
    "collapsed": false
   },
   "outputs": [],
   "source": [
    "boxLims = [rowcol[0]-2,rowcol[0]+3,rowcol[1]-2,rowcol[1]+3]\n",
    "abox=rrsDict['510'][boxLims[0]:boxLims[1],boxLims[2]:boxLims[3]]\n",
    "bbox=rrsUncDict['510'][boxLims[0]:boxLims[1],boxLims[2]:boxLims[3]]"
   ]
  },
  {
   "cell_type": "code",
   "execution_count": 212,
   "metadata": {
    "collapsed": false
   },
   "outputs": [
    {
     "data": {
      "text/plain": [
       "1.3185633579269051e-05"
      ]
     },
     "execution_count": 212,
     "metadata": {},
     "output_type": "execute_result"
    }
   ],
   "source": [
    "np.sqrt(np.sum(np.power(bbox.compressed(),2)))/bbox.compressed().size"
   ]
  },
  {
   "cell_type": "code",
   "execution_count": 218,
   "metadata": {
    "collapsed": false
   },
   "outputs": [],
   "source": [
    "subRrs,subRrsUnc=GetStats(rrsDict,rrsUncDict,rowcol)"
   ]
  },
  {
   "cell_type": "code",
   "execution_count": 224,
   "metadata": {
    "collapsed": false
   },
   "outputs": [
    {
     "name": "stdout",
     "output_type": "stream",
     "text": [
      "510:Rrs=3.83e-03;Rrs_unc=1.32e-05\n",
      "490:Rrs=5.93e-03;Rrs_unc=1.46e-05\n",
      "443:Rrs=7.61e-03;Rrs_unc=1.74e-05\n",
      "412:Rrs=8.06e-03;Rrs_unc=2.19e-05\n",
      "670:Rrs=2.15e-04;Rrs_unc=6.18e-06\n",
      "555:Rrs=1.87e-03;Rrs_unc=1.03e-05\n"
     ]
    }
   ],
   "source": [
    "for band in subRrs.keys():\n",
    "    print('%s:Rrs=%.2e;Rrs_unc=%.2e' % (band,subRrs[band],subRrsUnc[band]))"
   ]
  },
  {
   "cell_type": "code",
   "execution_count": 228,
   "metadata": {
    "collapsed": false
   },
   "outputs": [
    {
     "data": {
      "text/plain": [
       "(id\n",
       " 2113    0.003539\n",
       " Name: insitu_Rrs510, dtype: float64, id\n",
       " 2113    0.00386\n",
       " Name: seawifs_Rrs510, dtype: float64)"
      ]
     },
     "execution_count": 228,
     "metadata": {},
     "output_type": "execute_result"
    }
   ],
   "source": [
    "dfSub.insitu_Rrs510,dfSub.seawifs_Rrs510"
   ]
  },
  {
   "cell_type": "code",
   "execution_count": 109,
   "metadata": {
    "collapsed": false
   },
   "outputs": [],
   "source": [
    "uncLatRng, uncLonRng,uncLat,uncLon = GetUncLatLonRng(l2FileName)"
   ]
  },
  {
   "cell_type": "code",
   "execution_count": 328,
   "metadata": {
    "collapsed": false
   },
   "outputs": [],
   "source": [
    "rowcol,val = GetCntrPxlRowCol(uncLat,mUpLat,uncLon,mUpLon)"
   ]
  },
  {
   "cell_type": "code",
   "execution_count": 329,
   "metadata": {
    "collapsed": false
   },
   "outputs": [
    {
     "data": {
      "text/plain": [
       "True"
      ]
     },
     "execution_count": 329,
     "metadata": {},
     "output_type": "execute_result"
    }
   ],
   "source": [
    "val"
   ]
  },
  {
   "cell_type": "code",
   "execution_count": 334,
   "metadata": {
    "collapsed": false
   },
   "outputs": [
    {
     "data": {
      "text/plain": [
       "array([ 31.183])"
      ]
     },
     "execution_count": 334,
     "metadata": {},
     "output_type": "execute_result"
    }
   ],
   "source": [
    "dfSub.latitude.values"
   ]
  },
  {
   "cell_type": "code",
   "execution_count": 335,
   "metadata": {
    "collapsed": false
   },
   "outputs": [
    {
     "data": {
      "text/plain": [
       "array([ 0.00796846])"
      ]
     },
     "execution_count": 335,
     "metadata": {},
     "output_type": "execute_result"
    }
   ],
   "source": [
    "dfSub.seawifs_Rrs412.values"
   ]
  },
  {
   "cell_type": "code",
   "execution_count": 336,
   "metadata": {
    "collapsed": false
   },
   "outputs": [
    {
     "data": {
      "text/plain": [
       "Index(['cruise_name', 'file_name', 'date_time', 'latitude', 'longitude',\n",
       "       'seawifs_npixel', 'seawifs_tdiff', 'seawifs_solz', 'seawifs_senz',\n",
       "       'seawifs_cv', 'seawifs_es_thresh', 'seawifs_windspeed', 'insitu_Rrs412',\n",
       "       'insitu_Rrs443', 'insitu_Rrs490', 'insitu_Rrs510', 'insitu_Rrs555',\n",
       "       'insitu_Rrs670', 'seawifs_Rrs412', 'seawifs_Rrs443', 'seawifs_Rrs490',\n",
       "       'seawifs_Rrs510', 'seawifs_Rrs555', 'seawifs_Rrs670', 'L1_name'],\n",
       "      dtype='object')"
      ]
     },
     "execution_count": 336,
     "metadata": {},
     "output_type": "execute_result"
    }
   ],
   "source": [
    "dfSub.columns"
   ]
  },
  {
   "cell_type": "code",
   "execution_count": 337,
   "metadata": {
    "collapsed": false
   },
   "outputs": [
    {
     "data": {
      "text/plain": [
       "array(['S1999221200555.L2_MLAC.R0000020621_31N_30N_121W_120W.hdf_OCVAL.bz2'], dtype=object)"
      ]
     },
     "execution_count": 337,
     "metadata": {},
     "output_type": "execute_result"
    }
   ],
   "source": [
    "dfSub.file_name.values"
   ]
  },
  {
   "cell_type": "code",
   "execution_count": 338,
   "metadata": {
    "collapsed": false
   },
   "outputs": [
    {
     "data": {
      "text/plain": [
       "array(['S1999221200555.L1A_MLAC.R0000020621_31N_30N_121W_120W.hdf.bz2'], dtype=object)"
      ]
     },
     "execution_count": 338,
     "metadata": {},
     "output_type": "execute_result"
    }
   ],
   "source": [
    "dfSub.L1_name.values"
   ]
  },
  {
   "cell_type": "code",
   "execution_count": 331,
   "metadata": {
    "collapsed": false
   },
   "outputs": [
    {
     "data": {
      "text/plain": [
       "(31.183000000000003, -120.935)"
      ]
     },
     "execution_count": 331,
     "metadata": {},
     "output_type": "execute_result"
    }
   ],
   "source": [
    "mUpLat,mUpLon"
   ]
  },
  {
   "cell_type": "code",
   "execution_count": 332,
   "metadata": {
    "collapsed": false
   },
   "outputs": [
    {
     "data": {
      "text/plain": [
       "'/accounts/ekarakoy/disk02/UNCERTAINTIES/Monte-Carlo/Matchups/L2/AllFiles/S1999221200555_silent.L2'"
      ]
     },
     "execution_count": 332,
     "metadata": {},
     "output_type": "execute_result"
    }
   ],
   "source": [
    "l2FileName"
   ]
  },
  {
   "cell_type": "code",
   "execution_count": 61,
   "metadata": {
    "collapsed": false
   },
   "outputs": [
    {
     "name": "stdout",
     "output_type": "stream",
     "text": [
      "cruise_name                                                   s000620w\n",
      "file_name            S2000172164529.L2_MLAC.R0000021386_43N_43N_68W...\n",
      "date_time                                          2000/06/20 14:30:00\n",
      "latitude                                                        43.753\n",
      "longitude                                                      -66.598\n",
      "seawifs_npixel                                                     100\n",
      "seawifs_tdiff                                                     9000\n",
      "seawifs_solz                                                    21.371\n",
      "seawifs_senz                                                    22.126\n",
      "seawifs_cv                                                      0.0325\n",
      "seawifs_es_thresh                                                  3.5\n",
      "seawifs_windspeed                                                4.933\n",
      "insitu_Rrs412                                               0.00248826\n",
      "insitu_Rrs443                                               0.00247619\n",
      "insitu_Rrs490                                               0.00274044\n",
      "insitu_Rrs510                                               0.00284302\n",
      "insitu_Rrs555                                               0.00272127\n",
      "insitu_Rrs670                                               0.00058095\n",
      "seawifs_Rrs412                                              0.00350139\n",
      "seawifs_Rrs443                                              0.00350533\n",
      "seawifs_Rrs490                                              0.00362733\n",
      "seawifs_Rrs510                                              0.00345989\n",
      "seawifs_Rrs555                                              0.00288769\n",
      "seawifs_Rrs670                                              0.00051882\n",
      "L1_name              S2000172164529.L1A_MLAC.R0000021386_43N_43N_68...\n",
      "Name: 278, dtype: object\n",
      "cruise_name                                                   s000620w\n",
      "file_name            S2000172164529.L2_MLAC.R0000021386_43N_43N_68W...\n",
      "date_time                                          2000/06/20 17:30:00\n",
      "latitude                                                        43.698\n",
      "longitude                                                      -67.805\n",
      "seawifs_npixel                                                     100\n",
      "seawifs_tdiff                                                    -1800\n",
      "seawifs_solz                                                    21.032\n",
      "seawifs_senz                                                    22.559\n",
      "seawifs_cv                                                      0.0268\n",
      "seawifs_es_thresh                                                  3.5\n",
      "seawifs_windspeed                                                4.114\n",
      "insitu_Rrs412                                               0.00324594\n",
      "insitu_Rrs443                                               0.00357788\n",
      "insitu_Rrs490                                               0.00378666\n",
      "insitu_Rrs510                                               0.00342087\n",
      "insitu_Rrs555                                               0.00283215\n",
      "insitu_Rrs670                                               0.00078294\n",
      "seawifs_Rrs412                                               0.0028307\n",
      "seawifs_Rrs443                                              0.00331846\n",
      "seawifs_Rrs490                                              0.00354891\n",
      "seawifs_Rrs510                                              0.00302714\n",
      "seawifs_Rrs555                                               0.0019595\n",
      "seawifs_Rrs670                                               0.0002138\n",
      "L1_name              S2000172164529.L1A_MLAC.R0000021386_43N_43N_68...\n",
      "Name: 279, dtype: object\n"
     ]
    }
   ],
   "source": [
    "'''\n",
    "dict1Labels = ['index','uncLatRng','mUpInLatRng','uncLonRng','mUpInLonRng']\n",
    "dict2Labels = ['index','basename','boxCntrRowCol','boxValid','numValCells']\n",
    "dict3Labels = ['index','basename',Rrs_412,Rrs_unc_412,...,Rrs_vvv, Rrs_unc_vvv]\n",
    "'''\n",
    "\n",
    "for idx in dfex.index.values:\n",
    "    print(dfex.loc[idx,:])"
   ]
  },
  {
   "cell_type": "code",
   "execution_count": 38,
   "metadata": {
    "collapsed": false
   },
   "outputs": [],
   "source": [
    "pickle.dump(mainDict,open('matchupsQADict_1.pkl','wb'))"
   ]
  },
  {
   "cell_type": "code",
   "execution_count": null,
   "metadata": {
    "collapsed": true
   },
   "outputs": [],
   "source": []
  }
 ],
 "metadata": {
  "kernelspec": {
   "display_name": "Python [Root]",
   "language": "python",
   "name": "Python [Root]"
  },
  "language_info": {
   "codemirror_mode": {
    "name": "ipython",
    "version": 3
   },
   "file_extension": ".py",
   "mimetype": "text/x-python",
   "name": "python",
   "nbconvert_exporter": "python",
   "pygments_lexer": "ipython3",
   "version": "3.5.2"
  }
 },
 "nbformat": 4,
 "nbformat_minor": 0
}
