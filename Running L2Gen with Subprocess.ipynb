{
 "cells": [
  {
   "cell_type": "code",
   "execution_count": 4,
   "metadata": {
    "collapsed": true
   },
   "outputs": [],
   "source": [
    "from subprocess import Popen,PIPE,STDOUT\n",
    "import glob\n",
    "import re\n",
    "import random\n",
    "import os\n",
    "import logging\n",
    "import pickle"
   ]
  },
  {
   "cell_type": "code",
   "execution_count": 1,
   "metadata": {
    "collapsed": true
   },
   "outputs": [],
   "source": [
    "import multiprocessing"
   ]
  },
  {
   "cell_type": "code",
   "execution_count": 2,
   "metadata": {
    "collapsed": false
   },
   "outputs": [
    {
     "data": {
      "text/plain": [
       "4"
      ]
     },
     "execution_count": 2,
     "metadata": {},
     "output_type": "execute_result"
    }
   ],
   "source": [
    "multiprocessing.cpu_count()"
   ]
  },
  {
   "cell_type": "code",
   "execution_count": 5,
   "metadata": {
    "collapsed": false
   },
   "outputs": [],
   "source": [
    "l1files = glob.glob('/disk02/UNCERTAINTIES/Monte-Carlo/Matchups/L1As/*.hdf')"
   ]
  },
  {
   "cell_type": "code",
   "execution_count": 6,
   "metadata": {
    "collapsed": true
   },
   "outputs": [],
   "source": [
    "l1f = l1files[0]"
   ]
  },
  {
   "cell_type": "code",
   "execution_count": 7,
   "metadata": {
    "collapsed": false
   },
   "outputs": [
    {
     "data": {
      "text/plain": [
       "'/disk02/UNCERTAINTIES/Monte-Carlo/Matchups/L1As/S1997266172044.L1A_MLAC.R0000021534_32N_32N_79W_79W.hdf'"
      ]
     },
     "execution_count": 7,
     "metadata": {},
     "output_type": "execute_result"
    }
   ],
   "source": [
    "l1f"
   ]
  },
  {
   "cell_type": "code",
   "execution_count": 16,
   "metadata": {
    "collapsed": false
   },
   "outputs": [
    {
     "data": {
      "text/plain": [
       "True"
      ]
     },
     "execution_count": 16,
     "metadata": {},
     "output_type": "execute_result"
    }
   ],
   "source": [
    "os.path.exists(l1f)"
   ]
  },
  {
   "cell_type": "code",
   "execution_count": 23,
   "metadata": {
    "collapsed": false
   },
   "outputs": [
    {
     "data": {
      "text/plain": [
       "'S1997266172044'"
      ]
     },
     "execution_count": 23,
     "metadata": {},
     "output_type": "execute_result"
    }
   ],
   "source": [
    "basename"
   ]
  },
  {
   "cell_type": "code",
   "execution_count": 29,
   "metadata": {
    "collapsed": false
   },
   "outputs": [],
   "source": [
    "l2f = GetL2DirName(l1f)"
   ]
  },
  {
   "cell_type": "code",
   "execution_count": 30,
   "metadata": {
    "collapsed": false
   },
   "outputs": [
    {
     "name": "stdout",
     "output_type": "stream",
     "text": [
      "/disk02/UNCERTAINTIES/Monte-Carlo/Matchups/L1As/S1997266172044.L1A_MLAC.R0000021534_32N_32N_79W_79W.hdf\n",
      "/disk02/UNCERTAINTIES/Monte-Carlo/Matchups/L2/S1997266172044/S1997266172044.L2\n",
      "/disk02/UNCERTAINTIES/Monte-Carlo/Matchups/L1As\n",
      "/disk02/UNCERTAINTIES/Monte-Carlo/Matchups/L2\n"
     ]
    }
   ],
   "source": [
    "print(l1f)\n",
    "print(l2f)\n",
    "print(l1dir)\n",
    "print(l2dir)"
   ]
  },
  {
   "cell_type": "code",
   "execution_count": 22,
   "metadata": {
    "collapsed": false
   },
   "outputs": [
    {
     "data": {
      "text/plain": [
       "False"
      ]
     },
     "execution_count": 22,
     "metadata": {},
     "output_type": "execute_result"
    }
   ],
   "source": [
    "os.path.exists(os.path.join(l2dir,'Noisy'))"
   ]
  },
  {
   "cell_type": "code",
   "execution_count": 25,
   "metadata": {
    "collapsed": true
   },
   "outputs": [],
   "source": [
    "parSil = '/disk01/home/ekarakoy/UNCERTAINTIES/parfiles/parfile_silent'\n",
    "parNoi = '/disk01/home/ekarakoy/UNCERTAINTIES/parfiles/SWF/parfile_noisy1p0'"
   ]
  },
  {
   "cell_type": "code",
   "execution_count": 31,
   "metadata": {
    "collapsed": false
   },
   "outputs": [
    {
     "name": "stdout",
     "output_type": "stream",
     "text": [
      "/disk02/UNCERTAINTIES/Monte-Carlo/Matchups/L2/S1997266172044/S1997266172044.L2\n"
     ]
    }
   ],
   "source": [
    "#l2f='%s_noisy_%d.L2' %(basename,3)\n",
    "print(l2f)"
   ]
  },
  {
   "cell_type": "code",
   "execution_count": 37,
   "metadata": {
    "collapsed": true
   },
   "outputs": [],
   "source": [
    "from itertools import islice"
   ]
  },
  {
   "cell_type": "code",
   "execution_count": 39,
   "metadata": {
    "collapsed": false
   },
   "outputs": [
    {
     "data": {
      "text/plain": [
       "['/disk02/UNCERTAINTIES/Monte-Carlo/Matchups/L1As/S1997266172044.L1A_MLAC.R0000021534_32N_32N_79W_79W.hdf',\n",
       " '/disk02/UNCERTAINTIES/Monte-Carlo/Matchups/L1As/S1997270134451.L1A_MLAC.R0000020351_24N_23N_21W_20W.hdf',\n",
       " '/disk02/UNCERTAINTIES/Monte-Carlo/Matchups/L1As/S1997270202052.L1A_GAC.R0000020606_33N_33N_120W_119W.hdf',\n",
       " '/disk02/UNCERTAINTIES/Monte-Carlo/Matchups/L1As/S1997280161810.L1A_MLAC.R0000020388_31N_31N_64W_64W.hdf',\n",
       " '/disk02/UNCERTAINTIES/Monte-Carlo/Matchups/L1As/S1997281102712.L1A_MLAC.R0000020330_42N_42N_35E_35E.hdf',\n",
       " '/disk02/UNCERTAINTIES/Monte-Carlo/Matchups/L1As/S1997284110316.L1A_MLAC.R0000020330_39N_39N_25E_25E.hdf',\n",
       " '/disk02/UNCERTAINTIES/Monte-Carlo/Matchups/L1As/S1997293192729.L1A_MLAC.R0000020885_27N_27N_111W_111W.hdf',\n",
       " '/disk02/UNCERTAINTIES/Monte-Carlo/Matchups/L1As/S1997299190034.L1A_GAC.R0000021563_30S_30S_110W_109W.hdf',\n",
       " '/disk02/UNCERTAINTIES/Monte-Carlo/Matchups/L1As/S1997302193636.L1A_MLAC.R0000020885_30N_30N_114W_114W.hdf',\n",
       " '/disk02/UNCERTAINTIES/Monte-Carlo/Matchups/L1As/S1997308172629.L1A_MLAC.R0000021173_32N_32N_79W_79W.hdf']"
      ]
     },
     "execution_count": 39,
     "metadata": {},
     "output_type": "execute_result"
    }
   ],
   "source": [
    "l1fs=l1files[:10]\n",
    "l1fs"
   ]
  },
  {
   "cell_type": "code",
   "execution_count": 46,
   "metadata": {
    "collapsed": false
   },
   "outputs": [
    {
     "data": {
      "text/plain": [
       "'/disk01/home/ekarakoy/UNCERTAINTIES/parfiles/parfile_silent'"
      ]
     },
     "execution_count": 46,
     "metadata": {},
     "output_type": "execute_result"
    }
   ],
   "source": [
    "parSil"
   ]
  },
  {
   "cell_type": "code",
   "execution_count": 47,
   "metadata": {
    "collapsed": false
   },
   "outputs": [
    {
     "data": {
      "text/plain": [
       "'/disk01/home/ekarakoy/UNCERTAINTIES/parfiles/SWF/parfile_noisy1p0'"
      ]
     },
     "execution_count": 47,
     "metadata": {},
     "output_type": "execute_result"
    }
   ],
   "source": [
    "parNoi"
   ]
  },
  {
   "cell_type": "code",
   "execution_count": 44,
   "metadata": {
    "collapsed": false
   },
   "outputs": [
    {
     "data": {
      "text/plain": [
       "'S1997266172044'"
      ]
     },
     "execution_count": 44,
     "metadata": {},
     "output_type": "execute_result"
    }
   ],
   "source": [
    "basename"
   ]
  },
  {
   "cell_type": "code",
   "execution_count": 45,
   "metadata": {
    "collapsed": false
   },
   "outputs": [
    {
     "data": {
      "text/plain": [
       "'/disk02/UNCERTAINTIES/Monte-Carlo/Matchups/'"
      ]
     },
     "execution_count": 45,
     "metadata": {},
     "output_type": "execute_result"
    }
   ],
   "source": [
    "maindir"
   ]
  },
  {
   "cell_type": "code",
   "execution_count": 36,
   "metadata": {
    "collapsed": false
   },
   "outputs": [],
   "source": [
    "\n",
    "def SetArgs(l1f,l2fs,l2dir,basename,parSil,parNoi):\n",
    "    if not(os.path.exists(l2dir)):\n",
    "        os.makedirs(l2dir)\n",
    "    l2noisdir = os.path.join(l2dir,'Noisy')\n",
    "    if not (os.path.exists(l2noisdir)):\n",
    "        os.makedirs(l2noisdir)\n",
    "    for numProc in range(11):\n",
    "        args= 'l2gen ifile= %s'+l1f\n",
    "        if os.path.exists(l2fs):\n",
    "            # process noisy file\n",
    "            l2f = '%s_noisy_%d.L2' %(basename,numProcess)\n",
    "            ofile = os.path.join(l2noisdir,l2f)\n",
    "            args.append('ofile=%s'%ofile)\n",
    "            args.append('par=%s'%parSil)\n",
    "        else: # process silent file\n",
    "            ofile =\n",
    "            args.append('ofile=%s'%l2fs)\n",
    "            args.append('par=%s',parNoi)\n",
    "        logfile=ofile.split('.')[0]+'log'\n",
    "    return args,logfile\n",
    "\n",
    "def SetUp(mainDir,basename):\n",
    "    '''\n",
    "    Creates l2 Main Dir if nonexistent.\n",
    "    Creates l2 Dir for specific run run.\n",
    "    '''\n",
    "    \n",
    "def MakeCmdList(basename):\n",
    "    '''\n",
    "    Creates bash cmd list to execute (max of it.num + 1)\n",
    "    \n",
    "    '''\n",
    "    cmdList = []\n",
    "    \n",
    "    return cmdList\n",
    "\n",
    "def Worker(cmd,logfile):\n",
    "    proc = Popen(cmd,shell=True,stdout=logfile,stderr=STDOUT)\n",
    "    proc.wait()\n",
    "\n",
    "def ClearingHouse(l1List):\n",
    "    '''\n",
    "    while len(l1List) >0:\n",
    "        l1choice = random.choice(l1List)\n",
    "        l1List.pop(l1List.index(l1choice))\n",
    "        args,logfile = SetArgs()\n",
    "    '''\n",
    "    numProcesses = 11\n",
    "    for nP in range(numProcesses):\n",
    "        SetArgs\n",
    "def Driver(l1f):\n",
    "    pass"
   ]
  },
  {
   "cell_type": "code",
   "execution_count": 10,
   "metadata": {
    "collapsed": false
   },
   "outputs": [],
   "source": [
    "maindir = '/disk02/UNCERTAINTIES/Monte-Carlo/Matchups/'\n",
    "l1dir = os.path.join(maindir,'L1As')\n",
    "l2dir = os.path.join(maindir,'L2')"
   ]
  },
  {
   "cell_type": "code",
   "execution_count": null,
   "metadata": {
    "collapsed": true
   },
   "outputs": [],
   "source": [
    "processListDict{'silent': l1files,\n",
    "               'noisy': l1files}"
   ]
  },
  {
   "cell_type": "code",
   "execution_count": 4,
   "metadata": {
    "collapsed": false
   },
   "outputs": [
    {
     "name": "stdout",
     "output_type": "stream",
     "text": [
      "\n",
      "found /disk02/UNCERTAINTIES/Monte-Carlo/Matchups/L1As/S1997302193636.L1A_MLAC.R0000020885_30N_30N_114W_114W.hdf\n"
     ]
    }
   ],
   "source": [
    "def FindFile2Skip(skipS,procList)\n",
    "'''e.g. skipS = 'S1997302193636' '''\n",
    "\n",
    "    skipfile=''\n",
    "    for l1file in l1files:\n",
    "        if re.search(skipS,l1file):\n",
    "            skipfile = l1file\n",
    "            break\n",
    "    print(\"\\nfound %s to skip\" % skipfile)"
   ]
  },
  {
   "cell_type": "code",
   "execution_count": 8,
   "metadata": {
    "collapsed": false
   },
   "outputs": [],
   "source": [
    "l1sLeftDict = {'silent':[],'noisy':[]}\n",
    "\n",
    "def SelectL1File(l1List,l1LstFpath,usage='silent'):\n",
    "    l1choice = random.choice(l1List)\n",
    "    l1List.pop(l1List.index(l1choice))\n",
    "    l1sLeftDict[usage]\n",
    "    pickle.dump(l1List,open(l1LstFpath,'wb'))\n",
    "    return l1choice\n",
    "\n",
    "def GetL2DirName(l1choice,l1aDir='/L1As/'):\n",
    "    pattern = '(S[0-9]+).L1A'\n",
    "    rebsn = re.compile(pattern)\n",
    "    basename = rebsn.findall(l1choice)[0]\n",
    "    l2path = os.path.join(l2dir,basename,basename + '.L2')\n",
    "    return l2path\n",
    "\n",
    "def MakeL2Dir(l2path):\n",
    "    l2targdir = os.path.dirname(l2path)\n",
    "    if not os.path.exists(l2targdir):\n",
    "        os.makedirs(l2targdir)\n",
    "    return "
   ]
  },
  {
   "cell_type": "code",
   "execution_count": 6,
   "metadata": {
    "collapsed": false
   },
   "outputs": [
    {
     "data": {
      "text/plain": [
       "'/disk02/UNCERTAINTIES/Monte-Carlo/Matchups/L1As/S1997302193636.L1A_MLAC.R0000020885_30N_30N_114W_114W.hdf'"
      ]
     },
     "execution_count": 6,
     "metadata": {},
     "output_type": "execute_result"
    }
   ],
   "source": [
    "l1files.pop(l1files.index(skipfile))"
   ]
  },
  {
   "cell_type": "code",
   "execution_count": 8,
   "metadata": {
    "collapsed": false
   },
   "outputs": [
    {
     "data": {
      "text/plain": [
       "'/disk02/UNCERTAINTIES/Monte-Carlo/Matchups/L1As/S2001268195215.L1A_MLAC.R0000021279_34N_34N_119W_119W.hdf'"
      ]
     },
     "execution_count": 8,
     "metadata": {},
     "output_type": "execute_result"
    }
   ],
   "source": [
    "l1choice = random.choice(l1files)\n",
    "l1files.pop(l1files.index(l1choice))"
   ]
  },
  {
   "cell_type": "code",
   "execution_count": 9,
   "metadata": {
    "collapsed": false
   },
   "outputs": [
    {
     "name": "stdout",
     "output_type": "stream",
     "text": [
      "/disk02/UNCERTAINTIES/Monte-Carlo/Matchups/L2/S2001268195215/S2001268195215.L2\n"
     ]
    }
   ],
   "source": [
    "basename = rebsn.findall(l1choice)[0]\n",
    "l2path = os.path.join(l2dir,basename,basename + '.L2')\n",
    "print(l2path)"
   ]
  },
  {
   "cell_type": "code",
   "execution_count": 13,
   "metadata": {
    "collapsed": true
   },
   "outputs": [],
   "source": [
    "parfile = '/disk01/home/ekarakoy/UNCERTAINTIES/parfiles/parfile_silent'"
   ]
  },
  {
   "cell_type": "code",
   "execution_count": 14,
   "metadata": {
    "collapsed": false
   },
   "outputs": [],
   "source": [
    "def MakeL2GenCmds(ifile,ofile,**kwargs):\n",
    "    cmd = 'l2gen ifile=%s ofile=%s' % (ifile,ofile)\n",
    "    par = kwargs.pop('par',None)\n",
    "    if par:\n",
    "        cmd += ' par=%s' % par\n",
    "    return cmd"
   ]
  },
  {
   "cell_type": "code",
   "execution_count": 15,
   "metadata": {
    "collapsed": true
   },
   "outputs": [],
   "source": [
    "cmd=MakeL2GenCmds(l1choice,l2path,par=parfile)"
   ]
  },
  {
   "cell_type": "code",
   "execution_count": 35,
   "metadata": {
    "collapsed": true
   },
   "outputs": [],
   "source": [
    "# NOTE THE BELOW has to be done in the notebook (or the console) since ipython instances already have \n",
    "# logging facility going\n"
   ]
  },
  {
   "cell_type": "code",
   "execution_count": 58,
   "metadata": {
    "collapsed": false
   },
   "outputs": [],
   "source": [
    "def SetNewLogger(filename,mode='w'):\n",
    "    '''generates a new logging instance as logging to a file does not work otherwise\n",
    "       in ipython, which runs its own logging instance '''\n",
    "    logger = logging.getLogger()\n",
    "    fhandler = logging.FileHandler(filename=filename,mode=mode)\n",
    "    formatter = logging.Formatter('%(asctime)s -  %(message)s')\n",
    "    fhandler.setFormatter(formatter)\n",
    "    logger.addHandler(fhandler)\n",
    "    logger.setLevel(logging.DEBUG)"
   ]
  },
  {
   "cell_type": "code",
   "execution_count": 56,
   "metadata": {
    "collapsed": false
   },
   "outputs": [],
   "source": [
    "# Runs process and logs l2gen messages\n",
    "exitcode=1\n",
    "while exitcode:\n",
    "    proc = Popen(cmd,stdout=PIPE,stderr=STDOUT,shell=True)\n",
    "    print('\\r working...',flush=True)\n",
    "    exitcode = proc.wait()\n",
    "output,_ = proc.communicate()\n",
    "logging.info(output.decode().splitlines())\n",
    "print('done')"
   ]
  },
  {
   "cell_type": "code",
   "execution_count": 13,
   "metadata": {
    "collapsed": true
   },
   "outputs": [],
   "source": [
    "l1sSmall=l1files[:3]"
   ]
  },
  {
   "cell_type": "code",
   "execution_count": 14,
   "metadata": {
    "collapsed": false
   },
   "outputs": [
    {
     "data": {
      "text/plain": [
       "['/disk02/UNCERTAINTIES/Monte-Carlo/Matchups/L1As/S1997266172044.L1A_MLAC.R0000021534_32N_32N_79W_79W.hdf',\n",
       " '/disk02/UNCERTAINTIES/Monte-Carlo/Matchups/L1As/S1997270134451.L1A_MLAC.R0000020351_24N_23N_21W_20W.hdf',\n",
       " '/disk02/UNCERTAINTIES/Monte-Carlo/Matchups/L1As/S1997270202052.L1A_GAC.R0000020606_33N_33N_120W_119W.hdf']"
      ]
     },
     "execution_count": 14,
     "metadata": {},
     "output_type": "execute_result"
    }
   ],
   "source": [
    "l1sSmall"
   ]
  },
  {
   "cell_type": "code",
   "execution_count": 27,
   "metadata": {
    "collapsed": false
   },
   "outputs": [],
   "source": [
    "l2sSmall = []\n",
    "for l1path in l1sSmall:\n",
    "    l2path = GetL2DirName(l1)\n",
    "    l2sSmall.append(l2path)\n",
    "    MakeL2Dir(l2path)"
   ]
  },
  {
   "cell_type": "code",
   "execution_count": 28,
   "metadata": {
    "collapsed": false
   },
   "outputs": [
    {
     "name": "stdout",
     "output_type": "stream",
     "text": [
      "/disk02/UNCERTAINTIES/Monte-Carlo/Matchups/L1As/S1997266172044.L1A_MLAC.R0000021534_32N_32N_79W_79W.hdf - /disk02/UNCERTAINTIES/Monte-Carlo/Matchups/L2/S1997266172044/S1997266172044.L2\n",
      "----------------------\n",
      "/disk02/UNCERTAINTIES/Monte-Carlo/Matchups/L1As/S1997270134451.L1A_MLAC.R0000020351_24N_23N_21W_20W.hdf - /disk02/UNCERTAINTIES/Monte-Carlo/Matchups/L2/S1997270134451/S1997270134451.L2\n",
      "----------------------\n",
      "/disk02/UNCERTAINTIES/Monte-Carlo/Matchups/L1As/S1997270202052.L1A_GAC.R0000020606_33N_33N_120W_119W.hdf - /disk02/UNCERTAINTIES/Monte-Carlo/Matchups/L2/S1997270202052/S1997270202052.L2\n",
      "----------------------\n"
     ]
    }
   ],
   "source": [
    "for l1,l2 in zip(l1sSmall,l2sSmall):\n",
    "    print(\"%s - %s\" % (l1,l2))\n",
    "    print(\"----------------------\")"
   ]
  },
  {
   "cell_type": "code",
   "execution_count": 24,
   "metadata": {
    "collapsed": false
   },
   "outputs": [
    {
     "data": {
      "text/plain": [
       "'/disk02/UNCERTAINTIES/Monte-Carlo/Matchups/L1As/S1997270202052.L1A_GAC.R0000020606_33N_33N_120W_119W.hdf'"
      ]
     },
     "execution_count": 24,
     "metadata": {},
     "output_type": "execute_result"
    }
   ],
   "source": [
    "l1"
   ]
  },
  {
   "cell_type": "code",
   "execution_count": 25,
   "metadata": {
    "collapsed": false
   },
   "outputs": [
    {
     "data": {
      "text/plain": [
       "['S1997270202052']"
      ]
     },
     "execution_count": 25,
     "metadata": {},
     "output_type": "execute_result"
    }
   ],
   "source": [
    "rebsn.findall(l1)"
   ]
  },
  {
   "cell_type": "code",
   "execution_count": null,
   "metadata": {
    "collapsed": true
   },
   "outputs": [],
   "source": []
  }
 ],
 "metadata": {
  "kernelspec": {
   "display_name": "Python 3",
   "language": "python",
   "name": "python3"
  },
  "language_info": {
   "codemirror_mode": {
    "name": "ipython",
    "version": 3
   },
   "file_extension": ".py",
   "mimetype": "text/x-python",
   "name": "python",
   "nbconvert_exporter": "python",
   "pygments_lexer": "ipython3",
   "version": "3.5.1"
  }
 },
 "nbformat": 4,
 "nbformat_minor": 0
}
